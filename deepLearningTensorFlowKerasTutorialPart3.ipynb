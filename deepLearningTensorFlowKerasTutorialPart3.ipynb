{
 "cells": [
  {
   "cell_type": "code",
   "execution_count": null,
   "metadata": {},
   "outputs": [],
   "source": [
    "import tensorflow as tf\n",
    "from tensorflow.keras.models import Sequential\n",
    "from tensorflow.keras.layers import Dense, Dropout, Activation, Flatten, Conv2D, MaxPooling2D\n",
    "from tensorflow.keras.callbacks import TensorBoard\n",
    "import numpy as np\n",
    "import pickle\n",
    "import time"
   ]
  },
  {
   "cell_type": "code",
   "execution_count": 5,
   "metadata": {},
   "outputs": [
    {
     "name": "stdout",
     "output_type": "stream",
     "text": [
      "Epoch 1/10\n",
      "702/702 [==============================] - 67s 94ms/step - loss: 0.6115 - accuracy: 0.6613 - val_loss: 0.5319 - val_accuracy: 0.7407\n",
      "Epoch 2/10\n",
      "702/702 [==============================] - 64s 91ms/step - loss: 0.5038 - accuracy: 0.7559 - val_loss: 0.5129 - val_accuracy: 0.7431\n",
      "Epoch 3/10\n",
      "702/702 [==============================] - 64s 91ms/step - loss: 0.4596 - accuracy: 0.7831 - val_loss: 0.4543 - val_accuracy: 0.7876\n",
      "Epoch 4/10\n",
      "702/702 [==============================] - 64s 91ms/step - loss: 0.4210 - accuracy: 0.8028 - val_loss: 0.4744 - val_accuracy: 0.7735\n",
      "Epoch 5/10\n",
      "702/702 [==============================] - 63s 90ms/step - loss: 0.3834 - accuracy: 0.8256 - val_loss: 0.4455 - val_accuracy: 0.7984\n",
      "Epoch 6/10\n",
      "702/702 [==============================] - 63s 90ms/step - loss: 0.3424 - accuracy: 0.8481 - val_loss: 0.4368 - val_accuracy: 0.8096\n",
      "Epoch 7/10\n",
      "702/702 [==============================] - 63s 90ms/step - loss: 0.3017 - accuracy: 0.8703 - val_loss: 0.4588 - val_accuracy: 0.7968\n",
      "Epoch 8/10\n",
      "702/702 [==============================] - 63s 90ms/step - loss: 0.2541 - accuracy: 0.8937 - val_loss: 0.4835 - val_accuracy: 0.7976\n",
      "Epoch 9/10\n",
      "702/702 [==============================] - 63s 90ms/step - loss: 0.2073 - accuracy: 0.9168 - val_loss: 0.5479 - val_accuracy: 0.7856\n",
      "Epoch 10/10\n",
      "702/702 [==============================] - 63s 90ms/step - loss: 0.1610 - accuracy: 0.9368 - val_loss: 0.6299 - val_accuracy: 0.7996\n"
     ]
    },
    {
     "data": {
      "text/plain": [
       "<keras.callbacks.History at 0x1a3cb23f160>"
      ]
     },
     "execution_count": 5,
     "metadata": {},
     "output_type": "execute_result"
    }
   ],
   "source": [
    "NAME = f\"Cats-vs-dogs-cnn-64x2-dense-{int(time.time())}\"\n",
    "\n",
    "tensorboard = TensorBoard(log_dir=f'logs/{NAME}')\n",
    "\n",
    "# gpu_options = tf.config.gpu.set_per_process_memory_fraction(FRAC)\n",
    "gpu_options = tf.compat.v1.GPUOptions(per_process_gpu_memory_fraction=0.333)\n",
    "sess = tf.compat.v1.Session(config=tf.compat.v1.ConfigProto(gpu_options=gpu_options))\n",
    "\n",
    "pickle_in = open(\"X.pickle\",\"rb\")\n",
    "X = pickle.load(pickle_in)\n",
    "\n",
    "pickle_in = open(\"y.pickle\",\"rb\")\n",
    "y = pickle.load(pickle_in)\n",
    "y = np.array(y)\n",
    "X = X/255.0\n",
    "\n",
    "model = Sequential()\n",
    "model.add(Conv2D(64, (3,3), input_shape = X.shape[1:]))\n",
    "model.add(Activation(\"relu\"))\n",
    "model.add(MaxPooling2D(pool_size=(2,2)))\n",
    "\n",
    "model.add(Conv2D(64, (3,3), input_shape = X.shape[1:]))\n",
    "model.add(Activation(\"relu\"))\n",
    "model.add(MaxPooling2D(pool_size=(2,2)))\n",
    "\n",
    "model.add(Flatten())\n",
    "\n",
    "\n",
    "# model.add(Dense(64))\n",
    "# model.add(Activation(\"relu\"))\n",
    "\n",
    "model.add(Dense(1))\n",
    "model.add(Activation(\"sigmoid\"))\n",
    "\n",
    "model.compile(loss=\"binary_crossentropy\", optimizer=\"adam\", metrics=['accuracy'])\n",
    "\n",
    "model.fit(X,y, batch_size=32, epochs=10, validation_split=0.1, callbacks=[tensorboard])"
   ]
  }
 ],
 "metadata": {
  "kernelspec": {
   "display_name": "Python 3.10.4 ('.venv': pipenv)",
   "language": "python",
   "name": "python3"
  },
  "language_info": {
   "codemirror_mode": {
    "name": "ipython",
    "version": 3
   },
   "file_extension": ".py",
   "mimetype": "text/x-python",
   "name": "python",
   "nbconvert_exporter": "python",
   "pygments_lexer": "ipython3",
   "version": "3.10.4"
  },
  "orig_nbformat": 4,
  "vscode": {
   "interpreter": {
    "hash": "6381ab6089f4b43891eec0868b66d2b02f7a98be95f65493352a9e4f963b46f2"
   }
  }
 },
 "nbformat": 4,
 "nbformat_minor": 2
}
