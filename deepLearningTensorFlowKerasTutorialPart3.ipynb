{
 "cells": [
  {
   "cell_type": "code",
   "execution_count": null,
   "metadata": {},
   "outputs": [],
   "source": [
    "import tensorflow as tf\n",
    "from tensorflow.keras.models import Sequential\n",
    "from tensorflow.keras.layers import Dense, Dropout, Activation, Flatten, Conv2D, MaxPooling2D\n",
    "from tensorflow.keras.callbacks import TensorBoard\n",
    "import numpy as np\n",
    "import pickle\n",
    "import time"
   ]
  },
  {
   "cell_type": "code",
   "execution_count": 6,
   "metadata": {},
   "outputs": [
    {
     "name": "stdout",
     "output_type": "stream",
     "text": [
      "Epoch 1/10\n",
      "546/546 [==============================] - 55s 100ms/step - loss: 0.6316 - accuracy: 0.6374 - val_loss: 0.5927 - val_accuracy: 0.6887\n",
      "Epoch 2/10\n",
      "546/546 [==============================] - 51s 94ms/step - loss: 0.5345 - accuracy: 0.7347 - val_loss: 0.5050 - val_accuracy: 0.7615\n",
      "Epoch 3/10\n",
      "546/546 [==============================] - 51s 94ms/step - loss: 0.4891 - accuracy: 0.7665 - val_loss: 0.4876 - val_accuracy: 0.7671\n",
      "Epoch 4/10\n",
      "546/546 [==============================] - 51s 94ms/step - loss: 0.4632 - accuracy: 0.7819 - val_loss: 0.4583 - val_accuracy: 0.7875\n",
      "Epoch 5/10\n",
      "546/546 [==============================] - 51s 94ms/step - loss: 0.4380 - accuracy: 0.7966 - val_loss: 0.4512 - val_accuracy: 0.7913\n",
      "Epoch 6/10\n",
      "546/546 [==============================] - 51s 94ms/step - loss: 0.4159 - accuracy: 0.8114 - val_loss: 0.4613 - val_accuracy: 0.7835\n",
      "Epoch 7/10\n",
      "546/546 [==============================] - 51s 94ms/step - loss: 0.3938 - accuracy: 0.8215 - val_loss: 0.4597 - val_accuracy: 0.7904\n",
      "Epoch 8/10\n",
      "546/546 [==============================] - 52s 95ms/step - loss: 0.3745 - accuracy: 0.8338 - val_loss: 0.4493 - val_accuracy: 0.7950\n",
      "Epoch 9/10\n",
      "546/546 [==============================] - 52s 94ms/step - loss: 0.3528 - accuracy: 0.8450 - val_loss: 0.4471 - val_accuracy: 0.8000\n",
      "Epoch 10/10\n",
      "546/546 [==============================] - 51s 93ms/step - loss: 0.3388 - accuracy: 0.8500 - val_loss: 0.4328 - val_accuracy: 0.8075\n"
     ]
    },
    {
     "data": {
      "text/plain": [
       "<keras.callbacks.History at 0x1a38d8d7610>"
      ]
     },
     "execution_count": 6,
     "metadata": {},
     "output_type": "execute_result"
    }
   ],
   "source": [
    "NAME = f\"Cats-vs-dogs-cnn-64x2-validsplit.3-{int(time.time())}\"\n",
    "\n",
    "tensorboard = TensorBoard(log_dir=f'logs/{NAME}')\n",
    "\n",
    "# gpu_options = tf.config.gpu.set_per_process_memory_fraction(FRAC)\n",
    "gpu_options = tf.compat.v1.GPUOptions(per_process_gpu_memory_fraction=0.333)\n",
    "sess = tf.compat.v1.Session(config=tf.compat.v1.ConfigProto(gpu_options=gpu_options))\n",
    "\n",
    "pickle_in = open(\"X.pickle\",\"rb\")\n",
    "X = pickle.load(pickle_in)\n",
    "\n",
    "pickle_in = open(\"y.pickle\",\"rb\")\n",
    "y = pickle.load(pickle_in)\n",
    "y = np.array(y)\n",
    "X = X/255.0\n",
    "\n",
    "model = Sequential()\n",
    "model.add(Conv2D(64, (3,3), input_shape = X.shape[1:]))\n",
    "model.add(Activation(\"relu\"))\n",
    "model.add(MaxPooling2D(pool_size=(2,2)))\n",
    "\n",
    "model.add(Conv2D(64, (3,3), input_shape = X.shape[1:]))\n",
    "model.add(Activation(\"relu\"))\n",
    "model.add(MaxPooling2D(pool_size=(2,2)))\n",
    "\n",
    "model.add(Flatten())\n",
    "\n",
    "\n",
    "# model.add(Dense(64))\n",
    "# model.add(Activation(\"relu\"))\n",
    "\n",
    "model.add(Dense(1))\n",
    "model.add(Activation(\"sigmoid\"))\n",
    "\n",
    "model.compile(loss=\"binary_crossentropy\", optimizer=\"adam\", metrics=['accuracy'])\n",
    "\n",
    "model.fit(X,y, batch_size=32, epochs=10, validation_split=0.3, callbacks=[tensorboard])"
   ]
  }
 ],
 "metadata": {
  "kernelspec": {
   "display_name": "Python 3.10.4 ('.venv': pipenv)",
   "language": "python",
   "name": "python3"
  },
  "language_info": {
   "codemirror_mode": {
    "name": "ipython",
    "version": 3
   },
   "file_extension": ".py",
   "mimetype": "text/x-python",
   "name": "python",
   "nbconvert_exporter": "python",
   "pygments_lexer": "ipython3",
   "version": "3.10.4"
  },
  "orig_nbformat": 4,
  "vscode": {
   "interpreter": {
    "hash": "6381ab6089f4b43891eec0868b66d2b02f7a98be95f65493352a9e4f963b46f2"
   }
  }
 },
 "nbformat": 4,
 "nbformat_minor": 2
}
