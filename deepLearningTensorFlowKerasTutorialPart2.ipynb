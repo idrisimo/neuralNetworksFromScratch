{
 "cells": [
  {
   "cell_type": "code",
   "execution_count": null,
   "metadata": {},
   "outputs": [],
   "source": []
  }
 ],
 "metadata": {
  "kernelspec": {
   "display_name": "Python 3.10.4 ('neuralNetworkPractice-LP908O5V')",
   "language": "python",
   "name": "python3"
  },
  "language_info": {
   "name": "python",
   "version": "3.10.4"
  },
  "orig_nbformat": 4,
  "vscode": {
   "interpreter": {
    "hash": "c1e5d35212a7dcafcfc6c2a6716d6be1f1aa501a9ed712f778c25589e99a9b24"
   }
  }
 },
 "nbformat": 4,
 "nbformat_minor": 2
}
