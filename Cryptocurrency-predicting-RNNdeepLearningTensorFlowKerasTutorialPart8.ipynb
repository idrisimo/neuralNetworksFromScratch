{
 "cells": [
  {
   "cell_type": "code",
   "execution_count": 1,
   "metadata": {},
   "outputs": [],
   "source": [
    "import random\n",
    "import time\n",
    "\n",
    "import pandas as pd\n",
    "import numpy as np\n",
    "\n",
    "from sklearn import preprocessing\n",
    "from collections import deque\n",
    "\n",
    "import os\n",
    "os.environ['TF_CPP_MIN_LOG_LEVEL'] = '3' \n",
    "\n",
    "import tensorflow as tf\n",
    "from tensorflow.keras.models import Sequential\n",
    "from tensorflow.keras.layers import Dense, Dropout, LSTM, BatchNormalization\n",
    "from tensorflow.keras.callbacks import TensorBoard, ModelCheckpoint, EarlyStopping\n",
    "\n",
    "\n",
    "import absl.logging\n",
    "absl.logging.set_verbosity(absl.logging.ERROR)"
   ]
  },
  {
   "cell_type": "code",
   "execution_count": 2,
   "metadata": {},
   "outputs": [],
   "source": [
    "SEQ_LEN = 180\n",
    "FUTURE_PERIOD_PREDICT = 3\n",
    "\n",
    "RATIO_TO_PREDICT = \"ETH-USD\"\n",
    "\n",
    "LR=0.001 # 0.001\n",
    "DECAY=1e-5 # 1e-6\n",
    "\n",
    "EPOCHS = 100\n",
    "BATCH_SIZE = 64\n",
    "LSTM_LAYERS = [4, 2]\n",
    "LSTM_LAYER_SIZES = [128, 64]\n",
    "DENSE_LAYER_SIZES = [32, 16]\n",
    "\n",
    "# NAME = f\"{RATIO_TO_PREDICT}-{SEQ_LEN}-SEQ-{FUTURE_PERIOD_PREDICT}-PRED-{BATCH_SIZE}-BATCH-{LSTM_LAYERS}{int(time.time())}\""
   ]
  },
  {
   "cell_type": "code",
   "execution_count": 3,
   "metadata": {},
   "outputs": [],
   "source": [
    "def classify(current, future):\n",
    "    # This if statement essentially says that if the future price is more than the current one, its a good thing.\n",
    "    if float(future) > float(current):\n",
    "        return 1\n",
    "    else:\n",
    "        return 0\n",
    "\n",
    "\n",
    "def preprocess_df(df):\n",
    "    df = df.drop(columns=\"future\")\n",
    "    \n",
    "    for col in df.columns:\n",
    "        if col != \"target\":\n",
    "            df[col] = df[col].pct_change() # get the percentage change.\n",
    "            df.dropna(inplace=True)\n",
    "            df[col] = preprocessing.scale(df[col].values) # Normalises the data, between 0 and 1. \n",
    "            \n",
    "    df.dropna(inplace=True)\n",
    "    \n",
    "    sequential_data = []\n",
    "    prev_days = deque(maxlen=SEQ_LEN) # once it has the SEQ_LEN number of values it will return a list\n",
    "    \n",
    "    for i in df.values:\n",
    "        prev_days.append([n for n in i[:-1]])    \n",
    "        if len(prev_days) == SEQ_LEN:\n",
    "            sequential_data.append([np.array(prev_days), i[-1]])\n",
    "            \n",
    "    random.shuffle(sequential_data)\n",
    "    \n",
    "    buys = []\n",
    "    sells = []\n",
    "    \n",
    "    for seq, target in sequential_data:\n",
    "        if target == 0:\n",
    "            sells.append([seq, target])\n",
    "        elif target == 1:\n",
    "            buys.append([seq, target])\n",
    "            \n",
    "    random.shuffle(buys)\n",
    "    random.shuffle(sells)\n",
    "    \n",
    "    lower = min(len(buys), len(sells))\n",
    "    buys = buys[:lower]\n",
    "    sells = sells[:lower]\n",
    "    \n",
    "    sequential_data = buys+sells\n",
    "    random.shuffle(sequential_data)\n",
    "    \n",
    "    X = []\n",
    "    y = []\n",
    "    \n",
    "    for seq, target in sequential_data:\n",
    "        X.append(seq)\n",
    "        y.append(target)\n",
    "    return np.array(X), y"
   ]
  },
  {
   "cell_type": "code",
   "execution_count": 4,
   "metadata": {},
   "outputs": [
    {
     "name": "stdout",
     "output_type": "stream",
     "text": [
      "            ETH-USD_close     future  target\n",
      "time                                        \n",
      "1528968660            NaN  485.75000       0\n",
      "1528968720      486.01001  486.00000       0\n",
      "1528968780      486.00000  486.00000       0\n",
      "1528968840      485.75000  485.98999       1\n",
      "1528968900      486.00000  485.98999       0\n"
     ]
    }
   ],
   "source": [
    "main_df = pd.DataFrame()\n",
    "\n",
    "ratios = [\"BTC-USD\", \"LTC-USD\", \"ETH-USD\", \"BCH-USD\"]\n",
    "\n",
    "for ratio in ratios:\n",
    "    dataset = f\"crypto_data/{ratio}.csv\"\n",
    "    \n",
    "    df = pd.read_csv(dataset, names=[\"time\", \"low\", \"high\", \"open\", \"close\", \"volume\"])\n",
    "    \n",
    "    df.rename(columns={\"close\": f\"{ratio}_close\", \"volume\": f\"{ratio}_volume\"}, inplace=True)\n",
    "    \n",
    "    df.set_index(\"time\", inplace=True)\n",
    "    df = df[[f\"{ratio}_close\", f\"{ratio}_volume\"]]\n",
    "    \n",
    "\n",
    "    if len(main_df) == 0:\n",
    "        main_df = df\n",
    "    else:\n",
    "        main_df = main_df.join(df)\n",
    "    \n",
    "main_df[\"future\"] = main_df[f\"{RATIO_TO_PREDICT}_close\"].shift(-FUTURE_PERIOD_PREDICT)\n",
    "main_df['target'] = list(map(classify, main_df[f\"{RATIO_TO_PREDICT}_close\"], main_df[\"future\"]))\n",
    "\n",
    "print(main_df[[f\"{RATIO_TO_PREDICT}_close\", \"future\", \"target\"]].head(5))\n",
    "\n",
    "\n",
    "times =sorted(main_df.index.values)\n",
    "last_5pct = times[-int(0.05*len(times))]\n"
   ]
  },
  {
   "cell_type": "code",
   "execution_count": 5,
   "metadata": {},
   "outputs": [
    {
     "name": "stdout",
     "output_type": "stream",
     "text": [
      "train data: 74084 validation: 3144\n",
      "Dont buys: 37042, buys: 37042\n",
      "VALIDATION Dont buys: 1572, buys: 1572\n"
     ]
    }
   ],
   "source": [
    "# Getting validation data. The last 5% of data in the dataframe.\n",
    "times =sorted(main_df.index.values)\n",
    "last_5pct = times[-int(0.05*len(times))]\n",
    "\n",
    "validation_main_df = main_df[(main_df.index >= last_5pct)]\n",
    "main_df = main_df[(main_df.index < last_5pct)]\n",
    "\n",
    "train_x, train_y = preprocess_df(main_df)\n",
    "validation_x, validation_y = preprocess_df(validation_main_df)\n",
    "\n",
    "print(f\"train data: {len(train_x)} validation: {len(validation_x)}\")\n",
    "print(f\"Dont buys: {train_y.count(0)}, buys: {train_y.count(1)}\")\n",
    "print(f\"VALIDATION Dont buys: {validation_y.count(0)}, buys: {validation_y.count(1)}\")"
   ]
  },
  {
   "cell_type": "code",
   "execution_count": 6,
   "metadata": {},
   "outputs": [
    {
     "name": "stdout",
     "output_type": "stream",
     "text": [
      "Epoch 1/100\n",
      "1157/1158 [============================>.] - ETA: 0s - loss: 0.7304 - accuracy: 0.5044INFO:tensorflow:Assets written to: models\\RNN_Final-01-0.501.model\\assets\n"
     ]
    },
    {
     "name": "stderr",
     "output_type": "stream",
     "text": [
      "INFO:tensorflow:Assets written to: models\\RNN_Final-01-0.501.model\\assets\n"
     ]
    },
    {
     "name": "stdout",
     "output_type": "stream",
     "text": [
      "1158/1158 [==============================] - 119s 91ms/step - loss: 0.7304 - accuracy: 0.5044 - val_loss: 0.6944 - val_accuracy: 0.5010\n",
      "Epoch 2/100\n",
      "1158/1158 [==============================] - ETA: 0s - loss: 0.6929 - accuracy: 0.5195INFO:tensorflow:Assets written to: models\\RNN_Final-02-0.501.model\\assets\n"
     ]
    },
    {
     "name": "stderr",
     "output_type": "stream",
     "text": [
      "INFO:tensorflow:Assets written to: models\\RNN_Final-02-0.501.model\\assets\n"
     ]
    },
    {
     "name": "stdout",
     "output_type": "stream",
     "text": [
      "1158/1158 [==============================] - 103s 89ms/step - loss: 0.6929 - accuracy: 0.5195 - val_loss: 0.6948 - val_accuracy: 0.5010\n",
      "Epoch 3/100\n",
      "1157/1158 [============================>.] - ETA: 0s - loss: 0.6913 - accuracy: 0.5277INFO:tensorflow:Assets written to: models\\RNN_Final-03-0.511.model\\assets\n"
     ]
    },
    {
     "name": "stderr",
     "output_type": "stream",
     "text": [
      "INFO:tensorflow:Assets written to: models\\RNN_Final-03-0.511.model\\assets\n"
     ]
    },
    {
     "name": "stdout",
     "output_type": "stream",
     "text": [
      "1158/1158 [==============================] - 98s 84ms/step - loss: 0.6913 - accuracy: 0.5276 - val_loss: 0.6917 - val_accuracy: 0.5108\n",
      "Epoch 4/100\n",
      "1157/1158 [============================>.] - ETA: 0s - loss: 0.6892 - accuracy: 0.5399INFO:tensorflow:Assets written to: models\\RNN_Final-04-0.505.model\\assets\n"
     ]
    },
    {
     "name": "stderr",
     "output_type": "stream",
     "text": [
      "INFO:tensorflow:Assets written to: models\\RNN_Final-04-0.505.model\\assets\n"
     ]
    },
    {
     "name": "stdout",
     "output_type": "stream",
     "text": [
      "1158/1158 [==============================] - 97s 84ms/step - loss: 0.6892 - accuracy: 0.5400 - val_loss: 0.6929 - val_accuracy: 0.5051\n",
      "Epoch 5/100\n",
      "1157/1158 [============================>.] - ETA: 0s - loss: 0.6876 - accuracy: 0.5452INFO:tensorflow:Assets written to: models\\RNN_Final-05-0.554.model\\assets\n"
     ]
    },
    {
     "name": "stderr",
     "output_type": "stream",
     "text": [
      "INFO:tensorflow:Assets written to: models\\RNN_Final-05-0.554.model\\assets\n"
     ]
    },
    {
     "name": "stdout",
     "output_type": "stream",
     "text": [
      "1158/1158 [==============================] - 99s 85ms/step - loss: 0.6876 - accuracy: 0.5452 - val_loss: 0.6905 - val_accuracy: 0.5541\n",
      "Epoch 6/100\n",
      "1158/1158 [==============================] - ETA: 0s - loss: 0.6869 - accuracy: 0.5467INFO:tensorflow:Assets written to: models\\RNN_Final-06-0.568.model\\assets\n"
     ]
    },
    {
     "name": "stderr",
     "output_type": "stream",
     "text": [
      "INFO:tensorflow:Assets written to: models\\RNN_Final-06-0.568.model\\assets\n"
     ]
    },
    {
     "name": "stdout",
     "output_type": "stream",
     "text": [
      "1158/1158 [==============================] - 96s 83ms/step - loss: 0.6869 - accuracy: 0.5467 - val_loss: 0.6838 - val_accuracy: 0.5677\n",
      "Epoch 7/100\n",
      "1157/1158 [============================>.] - ETA: 0s - loss: 0.6848 - accuracy: 0.5532INFO:tensorflow:Assets written to: models\\RNN_Final-07-0.559.model\\assets\n"
     ]
    },
    {
     "name": "stderr",
     "output_type": "stream",
     "text": [
      "INFO:tensorflow:Assets written to: models\\RNN_Final-07-0.559.model\\assets\n"
     ]
    },
    {
     "name": "stdout",
     "output_type": "stream",
     "text": [
      "1158/1158 [==============================] - 97s 83ms/step - loss: 0.6848 - accuracy: 0.5532 - val_loss: 0.6825 - val_accuracy: 0.5595\n",
      "Epoch 8/100\n",
      "1158/1158 [==============================] - ETA: 0s - loss: 0.6837 - accuracy: 0.5579INFO:tensorflow:Assets written to: models\\RNN_Final-08-0.558.model\\assets\n"
     ]
    },
    {
     "name": "stderr",
     "output_type": "stream",
     "text": [
      "INFO:tensorflow:Assets written to: models\\RNN_Final-08-0.558.model\\assets\n"
     ]
    },
    {
     "name": "stdout",
     "output_type": "stream",
     "text": [
      "1158/1158 [==============================] - 96s 83ms/step - loss: 0.6837 - accuracy: 0.5579 - val_loss: 0.6829 - val_accuracy: 0.5579\n",
      "Epoch 9/100\n",
      "1157/1158 [============================>.] - ETA: 0s - loss: 0.6829 - accuracy: 0.5587INFO:tensorflow:Assets written to: models\\RNN_Final-09-0.558.model\\assets\n"
     ]
    },
    {
     "name": "stderr",
     "output_type": "stream",
     "text": [
      "INFO:tensorflow:Assets written to: models\\RNN_Final-09-0.558.model\\assets\n"
     ]
    },
    {
     "name": "stdout",
     "output_type": "stream",
     "text": [
      "1158/1158 [==============================] - 97s 83ms/step - loss: 0.6829 - accuracy: 0.5587 - val_loss: 0.6867 - val_accuracy: 0.5579\n",
      "Epoch 10/100\n",
      "1158/1158 [==============================] - ETA: 0s - loss: 0.6812 - accuracy: 0.5629INFO:tensorflow:Assets written to: models\\RNN_Final-10-0.564.model\\assets\n"
     ]
    },
    {
     "name": "stderr",
     "output_type": "stream",
     "text": [
      "INFO:tensorflow:Assets written to: models\\RNN_Final-10-0.564.model\\assets\n"
     ]
    },
    {
     "name": "stdout",
     "output_type": "stream",
     "text": [
      "1158/1158 [==============================] - 97s 84ms/step - loss: 0.6812 - accuracy: 0.5629 - val_loss: 0.6821 - val_accuracy: 0.5636\n",
      "Epoch 11/100\n",
      "1157/1158 [============================>.] - ETA: 0s - loss: 0.6774 - accuracy: 0.5722INFO:tensorflow:Assets written to: models\\RNN_Final-11-0.558.model\\assets\n"
     ]
    },
    {
     "name": "stderr",
     "output_type": "stream",
     "text": [
      "INFO:tensorflow:Assets written to: models\\RNN_Final-11-0.558.model\\assets\n"
     ]
    },
    {
     "name": "stdout",
     "output_type": "stream",
     "text": [
      "1158/1158 [==============================] - 95s 82ms/step - loss: 0.6774 - accuracy: 0.5722 - val_loss: 0.6862 - val_accuracy: 0.5579\n",
      "Epoch 12/100\n",
      "1158/1158 [==============================] - ETA: 0s - loss: 0.6739 - accuracy: 0.5802INFO:tensorflow:Assets written to: models\\RNN_Final-12-0.551.model\\assets\n"
     ]
    },
    {
     "name": "stderr",
     "output_type": "stream",
     "text": [
      "INFO:tensorflow:Assets written to: models\\RNN_Final-12-0.551.model\\assets\n"
     ]
    },
    {
     "name": "stdout",
     "output_type": "stream",
     "text": [
      "1158/1158 [==============================] - 96s 83ms/step - loss: 0.6739 - accuracy: 0.5802 - val_loss: 0.6865 - val_accuracy: 0.5509\n",
      "Epoch 13/100\n",
      "1158/1158 [==============================] - ETA: 0s - loss: 0.6693 - accuracy: 0.5889INFO:tensorflow:Assets written to: models\\RNN_Final-13-0.549.model\\assets\n"
     ]
    },
    {
     "name": "stderr",
     "output_type": "stream",
     "text": [
      "INFO:tensorflow:Assets written to: models\\RNN_Final-13-0.549.model\\assets\n"
     ]
    },
    {
     "name": "stdout",
     "output_type": "stream",
     "text": [
      "1158/1158 [==============================] - 96s 83ms/step - loss: 0.6693 - accuracy: 0.5889 - val_loss: 0.6875 - val_accuracy: 0.5493\n",
      "Epoch 14/100\n",
      "1157/1158 [============================>.] - ETA: 0s - loss: 0.6615 - accuracy: 0.6032INFO:tensorflow:Assets written to: models\\RNN_Final-14-0.545.model\\assets\n"
     ]
    },
    {
     "name": "stderr",
     "output_type": "stream",
     "text": [
      "INFO:tensorflow:Assets written to: models\\RNN_Final-14-0.545.model\\assets\n"
     ]
    },
    {
     "name": "stdout",
     "output_type": "stream",
     "text": [
      "1158/1158 [==============================] - 96s 83ms/step - loss: 0.6615 - accuracy: 0.6033 - val_loss: 0.6958 - val_accuracy: 0.5452\n",
      "Epoch 14: early stopping\n",
      "Epoch 1/100\n",
      "1158/1158 [==============================] - ETA: 0s - loss: 0.7180 - accuracy: 0.5090INFO:tensorflow:Assets written to: models\\RNN_Final-01-0.523.model\\assets\n"
     ]
    },
    {
     "name": "stderr",
     "output_type": "stream",
     "text": [
      "INFO:tensorflow:Assets written to: models\\RNN_Final-01-0.523.model\\assets\n"
     ]
    },
    {
     "name": "stdout",
     "output_type": "stream",
     "text": [
      "1158/1158 [==============================] - 108s 85ms/step - loss: 0.7180 - accuracy: 0.5090 - val_loss: 0.6915 - val_accuracy: 0.5226\n",
      "Epoch 2/100\n",
      "1157/1158 [============================>.] - ETA: 0s - loss: 0.6926 - accuracy: 0.5201INFO:tensorflow:Assets written to: models\\RNN_Final-02-0.509.model\\assets\n"
     ]
    },
    {
     "name": "stderr",
     "output_type": "stream",
     "text": [
      "INFO:tensorflow:Assets written to: models\\RNN_Final-02-0.509.model\\assets\n"
     ]
    },
    {
     "name": "stdout",
     "output_type": "stream",
     "text": [
      "1158/1158 [==============================] - 96s 83ms/step - loss: 0.6926 - accuracy: 0.5201 - val_loss: 0.6927 - val_accuracy: 0.5089\n",
      "Epoch 3/100\n",
      "1157/1158 [============================>.] - ETA: 0s - loss: 0.6910 - accuracy: 0.5294INFO:tensorflow:Assets written to: models\\RNN_Final-03-0.527.model\\assets\n"
     ]
    },
    {
     "name": "stderr",
     "output_type": "stream",
     "text": [
      "INFO:tensorflow:Assets written to: models\\RNN_Final-03-0.527.model\\assets\n"
     ]
    },
    {
     "name": "stdout",
     "output_type": "stream",
     "text": [
      "1158/1158 [==============================] - 96s 83ms/step - loss: 0.6911 - accuracy: 0.5293 - val_loss: 0.6905 - val_accuracy: 0.5267\n",
      "Epoch 4/100\n",
      "1158/1158 [==============================] - ETA: 0s - loss: 0.6896 - accuracy: 0.5379INFO:tensorflow:Assets written to: models\\RNN_Final-04-0.545.model\\assets\n"
     ]
    },
    {
     "name": "stderr",
     "output_type": "stream",
     "text": [
      "INFO:tensorflow:Assets written to: models\\RNN_Final-04-0.545.model\\assets\n"
     ]
    },
    {
     "name": "stdout",
     "output_type": "stream",
     "text": [
      "1158/1158 [==============================] - 97s 83ms/step - loss: 0.6896 - accuracy: 0.5379 - val_loss: 0.6867 - val_accuracy: 0.5452\n",
      "Epoch 5/100\n",
      "1158/1158 [==============================] - ETA: 0s - loss: 0.6871 - accuracy: 0.5447INFO:tensorflow:Assets written to: models\\RNN_Final-05-0.537.model\\assets\n"
     ]
    },
    {
     "name": "stderr",
     "output_type": "stream",
     "text": [
      "INFO:tensorflow:Assets written to: models\\RNN_Final-05-0.537.model\\assets\n"
     ]
    },
    {
     "name": "stdout",
     "output_type": "stream",
     "text": [
      "1158/1158 [==============================] - 96s 82ms/step - loss: 0.6871 - accuracy: 0.5447 - val_loss: 0.6862 - val_accuracy: 0.5372\n",
      "Epoch 6/100\n",
      "1158/1158 [==============================] - ETA: 0s - loss: 0.6853 - accuracy: 0.5493INFO:tensorflow:Assets written to: models\\RNN_Final-06-0.548.model\\assets\n"
     ]
    },
    {
     "name": "stderr",
     "output_type": "stream",
     "text": [
      "INFO:tensorflow:Assets written to: models\\RNN_Final-06-0.548.model\\assets\n"
     ]
    },
    {
     "name": "stdout",
     "output_type": "stream",
     "text": [
      "1158/1158 [==============================] - 96s 83ms/step - loss: 0.6853 - accuracy: 0.5493 - val_loss: 0.6865 - val_accuracy: 0.5483\n",
      "Epoch 7/100\n",
      "1158/1158 [==============================] - ETA: 0s - loss: 0.6844 - accuracy: 0.5525INFO:tensorflow:Assets written to: models\\RNN_Final-07-0.547.model\\assets\n"
     ]
    },
    {
     "name": "stderr",
     "output_type": "stream",
     "text": [
      "INFO:tensorflow:Assets written to: models\\RNN_Final-07-0.547.model\\assets\n"
     ]
    },
    {
     "name": "stdout",
     "output_type": "stream",
     "text": [
      "1158/1158 [==============================] - 95s 82ms/step - loss: 0.6844 - accuracy: 0.5525 - val_loss: 0.6851 - val_accuracy: 0.5468\n",
      "Epoch 8/100\n",
      "1158/1158 [==============================] - ETA: 0s - loss: 0.6834 - accuracy: 0.5580INFO:tensorflow:Assets written to: models\\RNN_Final-08-0.555.model\\assets\n"
     ]
    },
    {
     "name": "stderr",
     "output_type": "stream",
     "text": [
      "INFO:tensorflow:Assets written to: models\\RNN_Final-08-0.555.model\\assets\n"
     ]
    },
    {
     "name": "stdout",
     "output_type": "stream",
     "text": [
      "1158/1158 [==============================] - 97s 83ms/step - loss: 0.6834 - accuracy: 0.5580 - val_loss: 0.6837 - val_accuracy: 0.5553\n",
      "Epoch 9/100\n",
      "1157/1158 [============================>.] - ETA: 0s - loss: 0.6810 - accuracy: 0.5653INFO:tensorflow:Assets written to: models\\RNN_Final-09-0.560.model\\assets\n"
     ]
    },
    {
     "name": "stderr",
     "output_type": "stream",
     "text": [
      "INFO:tensorflow:Assets written to: models\\RNN_Final-09-0.560.model\\assets\n"
     ]
    },
    {
     "name": "stdout",
     "output_type": "stream",
     "text": [
      "1158/1158 [==============================] - 95s 82ms/step - loss: 0.6810 - accuracy: 0.5653 - val_loss: 0.6828 - val_accuracy: 0.5601\n",
      "Epoch 10/100\n",
      "1157/1158 [============================>.] - ETA: 0s - loss: 0.6784 - accuracy: 0.5704INFO:tensorflow:Assets written to: models\\RNN_Final-10-0.542.model\\assets\n"
     ]
    },
    {
     "name": "stderr",
     "output_type": "stream",
     "text": [
      "INFO:tensorflow:Assets written to: models\\RNN_Final-10-0.542.model\\assets\n"
     ]
    },
    {
     "name": "stdout",
     "output_type": "stream",
     "text": [
      "1158/1158 [==============================] - 97s 84ms/step - loss: 0.6784 - accuracy: 0.5704 - val_loss: 0.6855 - val_accuracy: 0.5423\n",
      "Epoch 11/100\n",
      "1158/1158 [==============================] - ETA: 0s - loss: 0.6741 - accuracy: 0.5809INFO:tensorflow:Assets written to: models\\RNN_Final-11-0.542.model\\assets\n"
     ]
    },
    {
     "name": "stderr",
     "output_type": "stream",
     "text": [
      "INFO:tensorflow:Assets written to: models\\RNN_Final-11-0.542.model\\assets\n"
     ]
    },
    {
     "name": "stdout",
     "output_type": "stream",
     "text": [
      "1158/1158 [==============================] - 96s 82ms/step - loss: 0.6741 - accuracy: 0.5809 - val_loss: 0.6931 - val_accuracy: 0.5420\n",
      "Epoch 12/100\n",
      "1157/1158 [============================>.] - ETA: 0s - loss: 0.6690 - accuracy: 0.5900INFO:tensorflow:Assets written to: models\\RNN_Final-12-0.546.model\\assets\n"
     ]
    },
    {
     "name": "stderr",
     "output_type": "stream",
     "text": [
      "INFO:tensorflow:Assets written to: models\\RNN_Final-12-0.546.model\\assets\n"
     ]
    },
    {
     "name": "stdout",
     "output_type": "stream",
     "text": [
      "1158/1158 [==============================] - 97s 84ms/step - loss: 0.6690 - accuracy: 0.5900 - val_loss: 0.6894 - val_accuracy: 0.5458\n",
      "Epoch 13/100\n",
      "1157/1158 [============================>.] - ETA: 0s - loss: 0.6622 - accuracy: 0.6027INFO:tensorflow:Assets written to: models\\RNN_Final-13-0.532.model\\assets\n"
     ]
    },
    {
     "name": "stderr",
     "output_type": "stream",
     "text": [
      "INFO:tensorflow:Assets written to: models\\RNN_Final-13-0.532.model\\assets\n"
     ]
    },
    {
     "name": "stdout",
     "output_type": "stream",
     "text": [
      "1158/1158 [==============================] - 96s 83ms/step - loss: 0.6622 - accuracy: 0.6027 - val_loss: 0.6990 - val_accuracy: 0.5318\n",
      "Epoch 13: early stopping\n",
      "Epoch 1/100\n",
      "1157/1158 [============================>.] - ETA: 0s - loss: 0.7116 - accuracy: 0.5120INFO:tensorflow:Assets written to: models\\RNN_Final-01-0.516.model\\assets\n"
     ]
    },
    {
     "name": "stderr",
     "output_type": "stream",
     "text": [
      "INFO:tensorflow:Assets written to: models\\RNN_Final-01-0.516.model\\assets\n"
     ]
    },
    {
     "name": "stdout",
     "output_type": "stream",
     "text": [
      "1158/1158 [==============================] - 82s 63ms/step - loss: 0.7116 - accuracy: 0.5120 - val_loss: 0.6926 - val_accuracy: 0.5159\n",
      "Epoch 2/100\n",
      "1157/1158 [============================>.] - ETA: 0s - loss: 0.6916 - accuracy: 0.5243INFO:tensorflow:Assets written to: models\\RNN_Final-02-0.516.model\\assets\n"
     ]
    },
    {
     "name": "stderr",
     "output_type": "stream",
     "text": [
      "INFO:tensorflow:Assets written to: models\\RNN_Final-02-0.516.model\\assets\n"
     ]
    },
    {
     "name": "stdout",
     "output_type": "stream",
     "text": [
      "1158/1158 [==============================] - 71s 62ms/step - loss: 0.6916 - accuracy: 0.5244 - val_loss: 0.6938 - val_accuracy: 0.5156\n",
      "Epoch 3/100\n",
      "1157/1158 [============================>.] - ETA: 0s - loss: 0.6898 - accuracy: 0.5344INFO:tensorflow:Assets written to: models\\RNN_Final-03-0.530.model\\assets\n"
     ]
    },
    {
     "name": "stderr",
     "output_type": "stream",
     "text": [
      "INFO:tensorflow:Assets written to: models\\RNN_Final-03-0.530.model\\assets\n"
     ]
    },
    {
     "name": "stdout",
     "output_type": "stream",
     "text": [
      "1158/1158 [==============================] - 70s 61ms/step - loss: 0.6898 - accuracy: 0.5344 - val_loss: 0.6918 - val_accuracy: 0.5296\n",
      "Epoch 4/100\n",
      "1157/1158 [============================>.] - ETA: 0s - loss: 0.6880 - accuracy: 0.5431INFO:tensorflow:Assets written to: models\\RNN_Final-04-0.539.model\\assets\n"
     ]
    },
    {
     "name": "stderr",
     "output_type": "stream",
     "text": [
      "INFO:tensorflow:Assets written to: models\\RNN_Final-04-0.539.model\\assets\n"
     ]
    },
    {
     "name": "stdout",
     "output_type": "stream",
     "text": [
      "1158/1158 [==============================] - 70s 60ms/step - loss: 0.6880 - accuracy: 0.5431 - val_loss: 0.6872 - val_accuracy: 0.5388\n",
      "Epoch 5/100\n",
      "1157/1158 [============================>.] - ETA: 0s - loss: 0.6862 - accuracy: 0.5480INFO:tensorflow:Assets written to: models\\RNN_Final-05-0.538.model\\assets\n"
     ]
    },
    {
     "name": "stderr",
     "output_type": "stream",
     "text": [
      "INFO:tensorflow:Assets written to: models\\RNN_Final-05-0.538.model\\assets\n"
     ]
    },
    {
     "name": "stdout",
     "output_type": "stream",
     "text": [
      "1158/1158 [==============================] - 71s 61ms/step - loss: 0.6862 - accuracy: 0.5480 - val_loss: 0.6886 - val_accuracy: 0.5382\n",
      "Epoch 6/100\n",
      "1157/1158 [============================>.] - ETA: 0s - loss: 0.6850 - accuracy: 0.5533INFO:tensorflow:Assets written to: models\\RNN_Final-06-0.550.model\\assets\n"
     ]
    },
    {
     "name": "stderr",
     "output_type": "stream",
     "text": [
      "INFO:tensorflow:Assets written to: models\\RNN_Final-06-0.550.model\\assets\n"
     ]
    },
    {
     "name": "stdout",
     "output_type": "stream",
     "text": [
      "1158/1158 [==============================] - 70s 60ms/step - loss: 0.6850 - accuracy: 0.5533 - val_loss: 0.6848 - val_accuracy: 0.5503\n",
      "Epoch 7/100\n",
      "1157/1158 [============================>.] - ETA: 0s - loss: 0.6828 - accuracy: 0.5592INFO:tensorflow:Assets written to: models\\RNN_Final-07-0.545.model\\assets\n"
     ]
    },
    {
     "name": "stderr",
     "output_type": "stream",
     "text": [
      "INFO:tensorflow:Assets written to: models\\RNN_Final-07-0.545.model\\assets\n"
     ]
    },
    {
     "name": "stdout",
     "output_type": "stream",
     "text": [
      "1158/1158 [==============================] - 71s 61ms/step - loss: 0.6828 - accuracy: 0.5592 - val_loss: 0.6866 - val_accuracy: 0.5452\n",
      "Epoch 8/100\n",
      "1157/1158 [============================>.] - ETA: 0s - loss: 0.6808 - accuracy: 0.5640INFO:tensorflow:Assets written to: models\\RNN_Final-08-0.548.model\\assets\n"
     ]
    },
    {
     "name": "stderr",
     "output_type": "stream",
     "text": [
      "INFO:tensorflow:Assets written to: models\\RNN_Final-08-0.548.model\\assets\n"
     ]
    },
    {
     "name": "stdout",
     "output_type": "stream",
     "text": [
      "1158/1158 [==============================] - 71s 61ms/step - loss: 0.6808 - accuracy: 0.5640 - val_loss: 0.6868 - val_accuracy: 0.5480\n",
      "Epoch 9/100\n",
      "1157/1158 [============================>.] - ETA: 0s - loss: 0.6775 - accuracy: 0.5713INFO:tensorflow:Assets written to: models\\RNN_Final-09-0.555.model\\assets\n"
     ]
    },
    {
     "name": "stderr",
     "output_type": "stream",
     "text": [
      "INFO:tensorflow:Assets written to: models\\RNN_Final-09-0.555.model\\assets\n"
     ]
    },
    {
     "name": "stdout",
     "output_type": "stream",
     "text": [
      "1158/1158 [==============================] - 71s 61ms/step - loss: 0.6775 - accuracy: 0.5713 - val_loss: 0.6905 - val_accuracy: 0.5547\n",
      "Epoch 10/100\n",
      "1157/1158 [============================>.] - ETA: 0s - loss: 0.6753 - accuracy: 0.5792INFO:tensorflow:Assets written to: models\\RNN_Final-10-0.544.model\\assets\n"
     ]
    },
    {
     "name": "stderr",
     "output_type": "stream",
     "text": [
      "INFO:tensorflow:Assets written to: models\\RNN_Final-10-0.544.model\\assets\n"
     ]
    },
    {
     "name": "stdout",
     "output_type": "stream",
     "text": [
      "1158/1158 [==============================] - 71s 61ms/step - loss: 0.6753 - accuracy: 0.5792 - val_loss: 0.6916 - val_accuracy: 0.5436\n",
      "Epoch 10: early stopping\n",
      "Epoch 1/100\n",
      "1158/1158 [==============================] - ETA: 0s - loss: 0.7171 - accuracy: 0.5001INFO:tensorflow:Assets written to: models\\RNN_Final-01-0.513.model\\assets\n"
     ]
    },
    {
     "name": "stderr",
     "output_type": "stream",
     "text": [
      "INFO:tensorflow:Assets written to: models\\RNN_Final-01-0.513.model\\assets\n"
     ]
    },
    {
     "name": "stdout",
     "output_type": "stream",
     "text": [
      "1158/1158 [==============================] - 82s 64ms/step - loss: 0.7171 - accuracy: 0.5001 - val_loss: 0.6925 - val_accuracy: 0.5130\n",
      "Epoch 2/100\n",
      "1158/1158 [==============================] - ETA: 0s - loss: 0.6932 - accuracy: 0.5076INFO:tensorflow:Assets written to: models\\RNN_Final-02-0.513.model\\assets\n"
     ]
    },
    {
     "name": "stderr",
     "output_type": "stream",
     "text": [
      "INFO:tensorflow:Assets written to: models\\RNN_Final-02-0.513.model\\assets\n"
     ]
    },
    {
     "name": "stdout",
     "output_type": "stream",
     "text": [
      "1158/1158 [==============================] - 70s 61ms/step - loss: 0.6932 - accuracy: 0.5076 - val_loss: 0.6927 - val_accuracy: 0.5127\n",
      "Epoch 3/100\n",
      "1157/1158 [============================>.] - ETA: 0s - loss: 0.6922 - accuracy: 0.5203INFO:tensorflow:Assets written to: models\\RNN_Final-03-0.510.model\\assets\n"
     ]
    },
    {
     "name": "stderr",
     "output_type": "stream",
     "text": [
      "INFO:tensorflow:Assets written to: models\\RNN_Final-03-0.510.model\\assets\n"
     ]
    },
    {
     "name": "stdout",
     "output_type": "stream",
     "text": [
      "1158/1158 [==============================] - 71s 61ms/step - loss: 0.6922 - accuracy: 0.5204 - val_loss: 0.6924 - val_accuracy: 0.5095\n",
      "Epoch 4/100\n",
      "1158/1158 [==============================] - ETA: 0s - loss: 0.6902 - accuracy: 0.5323INFO:tensorflow:Assets written to: models\\RNN_Final-04-0.510.model\\assets\n"
     ]
    },
    {
     "name": "stderr",
     "output_type": "stream",
     "text": [
      "INFO:tensorflow:Assets written to: models\\RNN_Final-04-0.510.model\\assets\n"
     ]
    },
    {
     "name": "stdout",
     "output_type": "stream",
     "text": [
      "1158/1158 [==============================] - 70s 60ms/step - loss: 0.6902 - accuracy: 0.5323 - val_loss: 0.6929 - val_accuracy: 0.5095\n",
      "Epoch 5/100\n",
      "1157/1158 [============================>.] - ETA: 0s - loss: 0.6891 - accuracy: 0.5359INFO:tensorflow:Assets written to: models\\RNN_Final-05-0.536.model\\assets\n"
     ]
    },
    {
     "name": "stderr",
     "output_type": "stream",
     "text": [
      "INFO:tensorflow:Assets written to: models\\RNN_Final-05-0.536.model\\assets\n"
     ]
    },
    {
     "name": "stdout",
     "output_type": "stream",
     "text": [
      "1158/1158 [==============================] - 70s 60ms/step - loss: 0.6891 - accuracy: 0.5359 - val_loss: 0.6886 - val_accuracy: 0.5363\n",
      "Epoch 6/100\n",
      "1157/1158 [============================>.] - ETA: 0s - loss: 0.6876 - accuracy: 0.5415INFO:tensorflow:Assets written to: models\\RNN_Final-06-0.544.model\\assets\n"
     ]
    },
    {
     "name": "stderr",
     "output_type": "stream",
     "text": [
      "INFO:tensorflow:Assets written to: models\\RNN_Final-06-0.544.model\\assets\n"
     ]
    },
    {
     "name": "stdout",
     "output_type": "stream",
     "text": [
      "1158/1158 [==============================] - 71s 62ms/step - loss: 0.6876 - accuracy: 0.5415 - val_loss: 0.6858 - val_accuracy: 0.5439\n",
      "Epoch 7/100\n",
      "1157/1158 [============================>.] - ETA: 0s - loss: 0.6860 - accuracy: 0.5474INFO:tensorflow:Assets written to: models\\RNN_Final-07-0.545.model\\assets\n"
     ]
    },
    {
     "name": "stderr",
     "output_type": "stream",
     "text": [
      "INFO:tensorflow:Assets written to: models\\RNN_Final-07-0.545.model\\assets\n"
     ]
    },
    {
     "name": "stdout",
     "output_type": "stream",
     "text": [
      "1158/1158 [==============================] - 70s 60ms/step - loss: 0.6860 - accuracy: 0.5473 - val_loss: 0.6897 - val_accuracy: 0.5455\n",
      "Epoch 8/100\n",
      "1158/1158 [==============================] - ETA: 0s - loss: 0.6843 - accuracy: 0.5555INFO:tensorflow:Assets written to: models\\RNN_Final-08-0.553.model\\assets\n"
     ]
    },
    {
     "name": "stderr",
     "output_type": "stream",
     "text": [
      "INFO:tensorflow:Assets written to: models\\RNN_Final-08-0.553.model\\assets\n"
     ]
    },
    {
     "name": "stdout",
     "output_type": "stream",
     "text": [
      "1158/1158 [==============================] - 70s 61ms/step - loss: 0.6843 - accuracy: 0.5555 - val_loss: 0.6852 - val_accuracy: 0.5528\n",
      "Epoch 9/100\n",
      "1158/1158 [==============================] - ETA: 0s - loss: 0.6826 - accuracy: 0.5571INFO:tensorflow:Assets written to: models\\RNN_Final-09-0.554.model\\assets\n"
     ]
    },
    {
     "name": "stderr",
     "output_type": "stream",
     "text": [
      "INFO:tensorflow:Assets written to: models\\RNN_Final-09-0.554.model\\assets\n"
     ]
    },
    {
     "name": "stdout",
     "output_type": "stream",
     "text": [
      "1158/1158 [==============================] - 70s 60ms/step - loss: 0.6826 - accuracy: 0.5571 - val_loss: 0.6842 - val_accuracy: 0.5544\n",
      "Epoch 10/100\n",
      "1158/1158 [==============================] - ETA: 0s - loss: 0.6804 - accuracy: 0.5660INFO:tensorflow:Assets written to: models\\RNN_Final-10-0.560.model\\assets\n"
     ]
    },
    {
     "name": "stderr",
     "output_type": "stream",
     "text": [
      "INFO:tensorflow:Assets written to: models\\RNN_Final-10-0.560.model\\assets\n"
     ]
    },
    {
     "name": "stdout",
     "output_type": "stream",
     "text": [
      "1158/1158 [==============================] - 70s 60ms/step - loss: 0.6804 - accuracy: 0.5660 - val_loss: 0.6851 - val_accuracy: 0.5598\n",
      "Epoch 11/100\n",
      "1157/1158 [============================>.] - ETA: 0s - loss: 0.6790 - accuracy: 0.5712INFO:tensorflow:Assets written to: models\\RNN_Final-11-0.541.model\\assets\n"
     ]
    },
    {
     "name": "stderr",
     "output_type": "stream",
     "text": [
      "INFO:tensorflow:Assets written to: models\\RNN_Final-11-0.541.model\\assets\n"
     ]
    },
    {
     "name": "stdout",
     "output_type": "stream",
     "text": [
      "1158/1158 [==============================] - 71s 62ms/step - loss: 0.6791 - accuracy: 0.5711 - val_loss: 0.6917 - val_accuracy: 0.5410\n",
      "Epoch 12/100\n",
      "1157/1158 [============================>.] - ETA: 0s - loss: 0.6756 - accuracy: 0.5769INFO:tensorflow:Assets written to: models\\RNN_Final-12-0.553.model\\assets\n"
     ]
    },
    {
     "name": "stderr",
     "output_type": "stream",
     "text": [
      "INFO:tensorflow:Assets written to: models\\RNN_Final-12-0.553.model\\assets\n"
     ]
    },
    {
     "name": "stdout",
     "output_type": "stream",
     "text": [
      "1158/1158 [==============================] - 70s 61ms/step - loss: 0.6756 - accuracy: 0.5769 - val_loss: 0.6872 - val_accuracy: 0.5528\n",
      "Epoch 13/100\n",
      "1158/1158 [==============================] - ETA: 0s - loss: 0.6725 - accuracy: 0.5835INFO:tensorflow:Assets written to: models\\RNN_Final-13-0.562.model\\assets\n"
     ]
    },
    {
     "name": "stderr",
     "output_type": "stream",
     "text": [
      "INFO:tensorflow:Assets written to: models\\RNN_Final-13-0.562.model\\assets\n"
     ]
    },
    {
     "name": "stdout",
     "output_type": "stream",
     "text": [
      "1158/1158 [==============================] - 70s 60ms/step - loss: 0.6725 - accuracy: 0.5835 - val_loss: 0.6832 - val_accuracy: 0.5623\n",
      "Epoch 14/100\n",
      "1157/1158 [============================>.] - ETA: 0s - loss: 0.6682 - accuracy: 0.5934INFO:tensorflow:Assets written to: models\\RNN_Final-14-0.565.model\\assets\n"
     ]
    },
    {
     "name": "stderr",
     "output_type": "stream",
     "text": [
      "INFO:tensorflow:Assets written to: models\\RNN_Final-14-0.565.model\\assets\n"
     ]
    },
    {
     "name": "stdout",
     "output_type": "stream",
     "text": [
      "1158/1158 [==============================] - 71s 61ms/step - loss: 0.6682 - accuracy: 0.5933 - val_loss: 0.6891 - val_accuracy: 0.5652\n",
      "Epoch 15/100\n",
      "1157/1158 [============================>.] - ETA: 0s - loss: 0.6635 - accuracy: 0.5968INFO:tensorflow:Assets written to: models\\RNN_Final-15-0.553.model\\assets\n"
     ]
    },
    {
     "name": "stderr",
     "output_type": "stream",
     "text": [
      "INFO:tensorflow:Assets written to: models\\RNN_Final-15-0.553.model\\assets\n"
     ]
    },
    {
     "name": "stdout",
     "output_type": "stream",
     "text": [
      "1158/1158 [==============================] - 71s 61ms/step - loss: 0.6635 - accuracy: 0.5967 - val_loss: 0.6855 - val_accuracy: 0.5534\n",
      "Epoch 16/100\n",
      "1157/1158 [============================>.] - ETA: 0s - loss: 0.6589 - accuracy: 0.6051INFO:tensorflow:Assets written to: models\\RNN_Final-16-0.545.model\\assets\n"
     ]
    },
    {
     "name": "stderr",
     "output_type": "stream",
     "text": [
      "INFO:tensorflow:Assets written to: models\\RNN_Final-16-0.545.model\\assets\n"
     ]
    },
    {
     "name": "stdout",
     "output_type": "stream",
     "text": [
      "1158/1158 [==============================] - 70s 61ms/step - loss: 0.6589 - accuracy: 0.6051 - val_loss: 0.6914 - val_accuracy: 0.5452\n",
      "Epoch 17/100\n",
      "1158/1158 [==============================] - ETA: 0s - loss: 0.6532 - accuracy: 0.6168INFO:tensorflow:Assets written to: models\\RNN_Final-17-0.536.model\\assets\n"
     ]
    },
    {
     "name": "stderr",
     "output_type": "stream",
     "text": [
      "INFO:tensorflow:Assets written to: models\\RNN_Final-17-0.536.model\\assets\n"
     ]
    },
    {
     "name": "stdout",
     "output_type": "stream",
     "text": [
      "1158/1158 [==============================] - 71s 61ms/step - loss: 0.6532 - accuracy: 0.6168 - val_loss: 0.7057 - val_accuracy: 0.5359\n",
      "Epoch 17: early stopping\n",
      "Epoch 1/100\n",
      "1158/1158 [==============================] - ETA: 0s - loss: 0.7430 - accuracy: 0.5041INFO:tensorflow:Assets written to: models\\RNN_Final-01-0.500.model\\assets\n"
     ]
    },
    {
     "name": "stderr",
     "output_type": "stream",
     "text": [
      "INFO:tensorflow:Assets written to: models\\RNN_Final-01-0.500.model\\assets\n"
     ]
    },
    {
     "name": "stdout",
     "output_type": "stream",
     "text": [
      "1158/1158 [==============================] - 54s 43ms/step - loss: 0.7430 - accuracy: 0.5041 - val_loss: 0.6951 - val_accuracy: 0.5000\n",
      "Epoch 2/100\n",
      "1158/1158 [==============================] - ETA: 0s - loss: 0.6942 - accuracy: 0.5046INFO:tensorflow:Assets written to: models\\RNN_Final-02-0.503.model\\assets\n"
     ]
    },
    {
     "name": "stderr",
     "output_type": "stream",
     "text": [
      "INFO:tensorflow:Assets written to: models\\RNN_Final-02-0.503.model\\assets\n"
     ]
    },
    {
     "name": "stdout",
     "output_type": "stream",
     "text": [
      "1158/1158 [==============================] - 48s 42ms/step - loss: 0.6942 - accuracy: 0.5046 - val_loss: 0.6930 - val_accuracy: 0.5035\n",
      "Epoch 3/100\n",
      "1157/1158 [============================>.] - ETA: 0s - loss: 0.6919 - accuracy: 0.5234INFO:tensorflow:Assets written to: models\\RNN_Final-03-0.500.model\\assets\n"
     ]
    },
    {
     "name": "stderr",
     "output_type": "stream",
     "text": [
      "INFO:tensorflow:Assets written to: models\\RNN_Final-03-0.500.model\\assets\n"
     ]
    },
    {
     "name": "stdout",
     "output_type": "stream",
     "text": [
      "1158/1158 [==============================] - 48s 41ms/step - loss: 0.6919 - accuracy: 0.5234 - val_loss: 0.7077 - val_accuracy: 0.5000\n",
      "Epoch 4/100\n",
      "1157/1158 [============================>.] - ETA: 0s - loss: 0.6895 - accuracy: 0.5372INFO:tensorflow:Assets written to: models\\RNN_Final-04-0.522.model\\assets\n"
     ]
    },
    {
     "name": "stderr",
     "output_type": "stream",
     "text": [
      "INFO:tensorflow:Assets written to: models\\RNN_Final-04-0.522.model\\assets\n"
     ]
    },
    {
     "name": "stdout",
     "output_type": "stream",
     "text": [
      "1158/1158 [==============================] - 48s 41ms/step - loss: 0.6895 - accuracy: 0.5372 - val_loss: 0.6912 - val_accuracy: 0.5219\n",
      "Epoch 5/100\n",
      "1157/1158 [============================>.] - ETA: 0s - loss: 0.6865 - accuracy: 0.5452INFO:tensorflow:Assets written to: models\\RNN_Final-05-0.528.model\\assets\n"
     ]
    },
    {
     "name": "stderr",
     "output_type": "stream",
     "text": [
      "INFO:tensorflow:Assets written to: models\\RNN_Final-05-0.528.model\\assets\n"
     ]
    },
    {
     "name": "stdout",
     "output_type": "stream",
     "text": [
      "1158/1158 [==============================] - 48s 41ms/step - loss: 0.6864 - accuracy: 0.5452 - val_loss: 0.6949 - val_accuracy: 0.5280\n",
      "Epoch 6/100\n",
      "1157/1158 [============================>.] - ETA: 0s - loss: 0.6855 - accuracy: 0.5513INFO:tensorflow:Assets written to: models\\RNN_Final-06-0.557.model\\assets\n"
     ]
    },
    {
     "name": "stderr",
     "output_type": "stream",
     "text": [
      "INFO:tensorflow:Assets written to: models\\RNN_Final-06-0.557.model\\assets\n"
     ]
    },
    {
     "name": "stdout",
     "output_type": "stream",
     "text": [
      "1158/1158 [==============================] - 48s 42ms/step - loss: 0.6855 - accuracy: 0.5513 - val_loss: 0.6817 - val_accuracy: 0.5569\n",
      "Epoch 7/100\n",
      "1158/1158 [==============================] - ETA: 0s - loss: 0.6848 - accuracy: 0.5542INFO:tensorflow:Assets written to: models\\RNN_Final-07-0.551.model\\assets\n"
     ]
    },
    {
     "name": "stderr",
     "output_type": "stream",
     "text": [
      "INFO:tensorflow:Assets written to: models\\RNN_Final-07-0.551.model\\assets\n"
     ]
    },
    {
     "name": "stdout",
     "output_type": "stream",
     "text": [
      "1158/1158 [==============================] - 48s 41ms/step - loss: 0.6848 - accuracy: 0.5542 - val_loss: 0.6826 - val_accuracy: 0.5512\n",
      "Epoch 8/100\n",
      "1158/1158 [==============================] - ETA: 0s - loss: 0.6836 - accuracy: 0.5559INFO:tensorflow:Assets written to: models\\RNN_Final-08-0.547.model\\assets\n"
     ]
    },
    {
     "name": "stderr",
     "output_type": "stream",
     "text": [
      "INFO:tensorflow:Assets written to: models\\RNN_Final-08-0.547.model\\assets\n"
     ]
    },
    {
     "name": "stdout",
     "output_type": "stream",
     "text": [
      "1158/1158 [==============================] - 48s 41ms/step - loss: 0.6836 - accuracy: 0.5559 - val_loss: 0.6898 - val_accuracy: 0.5471\n",
      "Epoch 9/100\n",
      "1157/1158 [============================>.] - ETA: 0s - loss: 0.6828 - accuracy: 0.5580INFO:tensorflow:Assets written to: models\\RNN_Final-09-0.561.model\\assets\n"
     ]
    },
    {
     "name": "stderr",
     "output_type": "stream",
     "text": [
      "INFO:tensorflow:Assets written to: models\\RNN_Final-09-0.561.model\\assets\n"
     ]
    },
    {
     "name": "stdout",
     "output_type": "stream",
     "text": [
      "1158/1158 [==============================] - 48s 41ms/step - loss: 0.6828 - accuracy: 0.5581 - val_loss: 0.6859 - val_accuracy: 0.5611\n",
      "Epoch 10/100\n",
      "1157/1158 [============================>.] - ETA: 0s - loss: 0.6813 - accuracy: 0.5634INFO:tensorflow:Assets written to: models\\RNN_Final-10-0.558.model\\assets\n"
     ]
    },
    {
     "name": "stderr",
     "output_type": "stream",
     "text": [
      "INFO:tensorflow:Assets written to: models\\RNN_Final-10-0.558.model\\assets\n"
     ]
    },
    {
     "name": "stdout",
     "output_type": "stream",
     "text": [
      "1158/1158 [==============================] - 47s 41ms/step - loss: 0.6812 - accuracy: 0.5634 - val_loss: 0.6839 - val_accuracy: 0.5579\n",
      "Epoch 10: early stopping\n",
      "Epoch 1/100\n",
      "1158/1158 [==============================] - ETA: 0s - loss: 0.7081 - accuracy: 0.5223INFO:tensorflow:Assets written to: models\\RNN_Final-01-0.499.model\\assets\n"
     ]
    },
    {
     "name": "stderr",
     "output_type": "stream",
     "text": [
      "INFO:tensorflow:Assets written to: models\\RNN_Final-01-0.499.model\\assets\n"
     ]
    },
    {
     "name": "stdout",
     "output_type": "stream",
     "text": [
      "1158/1158 [==============================] - 54s 42ms/step - loss: 0.7081 - accuracy: 0.5223 - val_loss: 0.6963 - val_accuracy: 0.4987\n",
      "Epoch 2/100\n",
      "1157/1158 [============================>.] - ETA: 0s - loss: 0.6895 - accuracy: 0.5370INFO:tensorflow:Assets written to: models\\RNN_Final-02-0.534.model\\assets\n"
     ]
    },
    {
     "name": "stderr",
     "output_type": "stream",
     "text": [
      "INFO:tensorflow:Assets written to: models\\RNN_Final-02-0.534.model\\assets\n"
     ]
    },
    {
     "name": "stdout",
     "output_type": "stream",
     "text": [
      "1158/1158 [==============================] - 48s 41ms/step - loss: 0.6895 - accuracy: 0.5371 - val_loss: 0.6893 - val_accuracy: 0.5344\n",
      "Epoch 3/100\n",
      "1158/1158 [==============================] - ETA: 0s - loss: 0.6873 - accuracy: 0.5433INFO:tensorflow:Assets written to: models\\RNN_Final-03-0.552.model\\assets\n"
     ]
    },
    {
     "name": "stderr",
     "output_type": "stream",
     "text": [
      "INFO:tensorflow:Assets written to: models\\RNN_Final-03-0.552.model\\assets\n"
     ]
    },
    {
     "name": "stdout",
     "output_type": "stream",
     "text": [
      "1158/1158 [==============================] - 48s 41ms/step - loss: 0.6873 - accuracy: 0.5433 - val_loss: 0.6867 - val_accuracy: 0.5515\n",
      "Epoch 4/100\n",
      "1157/1158 [============================>.] - ETA: 0s - loss: 0.6886 - accuracy: 0.5379INFO:tensorflow:Assets written to: models\\RNN_Final-04-0.500.model\\assets\n"
     ]
    },
    {
     "name": "stderr",
     "output_type": "stream",
     "text": [
      "INFO:tensorflow:Assets written to: models\\RNN_Final-04-0.500.model\\assets\n"
     ]
    },
    {
     "name": "stdout",
     "output_type": "stream",
     "text": [
      "1158/1158 [==============================] - 47s 41ms/step - loss: 0.6886 - accuracy: 0.5380 - val_loss: 0.6957 - val_accuracy: 0.5000\n",
      "Epoch 5/100\n",
      "1157/1158 [============================>.] - ETA: 0s - loss: 0.6865 - accuracy: 0.5472INFO:tensorflow:Assets written to: models\\RNN_Final-05-0.536.model\\assets\n"
     ]
    },
    {
     "name": "stderr",
     "output_type": "stream",
     "text": [
      "INFO:tensorflow:Assets written to: models\\RNN_Final-05-0.536.model\\assets\n"
     ]
    },
    {
     "name": "stdout",
     "output_type": "stream",
     "text": [
      "1158/1158 [==============================] - 53s 46ms/step - loss: 0.6865 - accuracy: 0.5471 - val_loss: 0.6881 - val_accuracy: 0.5359\n",
      "Epoch 6/100\n",
      "1158/1158 [==============================] - ETA: 0s - loss: 0.6847 - accuracy: 0.5519INFO:tensorflow:Assets written to: models\\RNN_Final-06-0.559.model\\assets\n"
     ]
    },
    {
     "name": "stderr",
     "output_type": "stream",
     "text": [
      "INFO:tensorflow:Assets written to: models\\RNN_Final-06-0.559.model\\assets\n"
     ]
    },
    {
     "name": "stdout",
     "output_type": "stream",
     "text": [
      "1158/1158 [==============================] - 48s 41ms/step - loss: 0.6847 - accuracy: 0.5519 - val_loss: 0.6832 - val_accuracy: 0.5595\n",
      "Epoch 7/100\n",
      "1158/1158 [==============================] - ETA: 0s - loss: 0.6835 - accuracy: 0.5566INFO:tensorflow:Assets written to: models\\RNN_Final-07-0.548.model\\assets\n"
     ]
    },
    {
     "name": "stderr",
     "output_type": "stream",
     "text": [
      "INFO:tensorflow:Assets written to: models\\RNN_Final-07-0.548.model\\assets\n"
     ]
    },
    {
     "name": "stdout",
     "output_type": "stream",
     "text": [
      "1158/1158 [==============================] - 48s 42ms/step - loss: 0.6835 - accuracy: 0.5566 - val_loss: 0.6848 - val_accuracy: 0.5480\n",
      "Epoch 8/100\n",
      "1157/1158 [============================>.] - ETA: 0s - loss: 0.6822 - accuracy: 0.5583INFO:tensorflow:Assets written to: models\\RNN_Final-08-0.550.model\\assets\n"
     ]
    },
    {
     "name": "stderr",
     "output_type": "stream",
     "text": [
      "INFO:tensorflow:Assets written to: models\\RNN_Final-08-0.550.model\\assets\n"
     ]
    },
    {
     "name": "stdout",
     "output_type": "stream",
     "text": [
      "1158/1158 [==============================] - 48s 41ms/step - loss: 0.6822 - accuracy: 0.5583 - val_loss: 0.6856 - val_accuracy: 0.5496\n",
      "Epoch 9/100\n",
      "1157/1158 [============================>.] - ETA: 0s - loss: 0.6799 - accuracy: 0.5627INFO:tensorflow:Assets written to: models\\RNN_Final-09-0.556.model\\assets\n"
     ]
    },
    {
     "name": "stderr",
     "output_type": "stream",
     "text": [
      "INFO:tensorflow:Assets written to: models\\RNN_Final-09-0.556.model\\assets\n"
     ]
    },
    {
     "name": "stdout",
     "output_type": "stream",
     "text": [
      "1158/1158 [==============================] - 48s 41ms/step - loss: 0.6799 - accuracy: 0.5627 - val_loss: 0.6852 - val_accuracy: 0.5560\n",
      "Epoch 10/100\n",
      "1158/1158 [==============================] - ETA: 0s - loss: 0.6770 - accuracy: 0.5697INFO:tensorflow:Assets written to: models\\RNN_Final-10-0.569.model\\assets\n"
     ]
    },
    {
     "name": "stderr",
     "output_type": "stream",
     "text": [
      "INFO:tensorflow:Assets written to: models\\RNN_Final-10-0.569.model\\assets\n"
     ]
    },
    {
     "name": "stdout",
     "output_type": "stream",
     "text": [
      "1158/1158 [==============================] - 48s 41ms/step - loss: 0.6770 - accuracy: 0.5697 - val_loss: 0.6825 - val_accuracy: 0.5690\n",
      "Epoch 11/100\n",
      "1157/1158 [============================>.] - ETA: 0s - loss: 0.6735 - accuracy: 0.5794INFO:tensorflow:Assets written to: models\\RNN_Final-11-0.562.model\\assets\n"
     ]
    },
    {
     "name": "stderr",
     "output_type": "stream",
     "text": [
      "INFO:tensorflow:Assets written to: models\\RNN_Final-11-0.562.model\\assets\n"
     ]
    },
    {
     "name": "stdout",
     "output_type": "stream",
     "text": [
      "1158/1158 [==============================] - 48s 41ms/step - loss: 0.6735 - accuracy: 0.5793 - val_loss: 0.6929 - val_accuracy: 0.5620\n",
      "Epoch 12/100\n",
      "1158/1158 [==============================] - ETA: 0s - loss: 0.6692 - accuracy: 0.5855INFO:tensorflow:Assets written to: models\\RNN_Final-12-0.556.model\\assets\n"
     ]
    },
    {
     "name": "stderr",
     "output_type": "stream",
     "text": [
      "INFO:tensorflow:Assets written to: models\\RNN_Final-12-0.556.model\\assets\n"
     ]
    },
    {
     "name": "stdout",
     "output_type": "stream",
     "text": [
      "1158/1158 [==============================] - 48s 41ms/step - loss: 0.6692 - accuracy: 0.5855 - val_loss: 0.6981 - val_accuracy: 0.5560\n",
      "Epoch 13/100\n",
      "1158/1158 [==============================] - ETA: 0s - loss: 0.6636 - accuracy: 0.5947INFO:tensorflow:Assets written to: models\\RNN_Final-13-0.554.model\\assets\n"
     ]
    },
    {
     "name": "stderr",
     "output_type": "stream",
     "text": [
      "INFO:tensorflow:Assets written to: models\\RNN_Final-13-0.554.model\\assets\n"
     ]
    },
    {
     "name": "stdout",
     "output_type": "stream",
     "text": [
      "1158/1158 [==============================] - 47s 41ms/step - loss: 0.6636 - accuracy: 0.5947 - val_loss: 0.6983 - val_accuracy: 0.5544\n",
      "Epoch 14/100\n",
      "1157/1158 [============================>.] - ETA: 0s - loss: 0.6552 - accuracy: 0.6058INFO:tensorflow:Assets written to: models\\RNN_Final-14-0.568.model\\assets\n"
     ]
    },
    {
     "name": "stderr",
     "output_type": "stream",
     "text": [
      "INFO:tensorflow:Assets written to: models\\RNN_Final-14-0.568.model\\assets\n"
     ]
    },
    {
     "name": "stdout",
     "output_type": "stream",
     "text": [
      "1158/1158 [==============================] - 48s 41ms/step - loss: 0.6553 - accuracy: 0.6057 - val_loss: 0.6924 - val_accuracy: 0.5681\n",
      "Epoch 14: early stopping\n",
      "Epoch 1/100\n",
      "1158/1158 [==============================] - ETA: 0s - loss: 0.7120 - accuracy: 0.5120INFO:tensorflow:Assets written to: models\\RNN_Final-01-0.514.model\\assets\n"
     ]
    },
    {
     "name": "stderr",
     "output_type": "stream",
     "text": [
      "INFO:tensorflow:Assets written to: models\\RNN_Final-01-0.514.model\\assets\n"
     ]
    },
    {
     "name": "stdout",
     "output_type": "stream",
     "text": [
      "1158/1158 [==============================] - 46s 36ms/step - loss: 0.7120 - accuracy: 0.5120 - val_loss: 0.6926 - val_accuracy: 0.5140\n",
      "Epoch 2/100\n",
      "1158/1158 [==============================] - ETA: 0s - loss: 0.6919 - accuracy: 0.5229INFO:tensorflow:Assets written to: models\\RNN_Final-02-0.533.model\\assets\n"
     ]
    },
    {
     "name": "stderr",
     "output_type": "stream",
     "text": [
      "INFO:tensorflow:Assets written to: models\\RNN_Final-02-0.533.model\\assets\n"
     ]
    },
    {
     "name": "stdout",
     "output_type": "stream",
     "text": [
      "1158/1158 [==============================] - 39s 33ms/step - loss: 0.6919 - accuracy: 0.5229 - val_loss: 0.6899 - val_accuracy: 0.5328\n",
      "Epoch 3/100\n",
      "1158/1158 [==============================] - ETA: 0s - loss: 0.6881 - accuracy: 0.5395INFO:tensorflow:Assets written to: models\\RNN_Final-03-0.552.model\\assets\n"
     ]
    },
    {
     "name": "stderr",
     "output_type": "stream",
     "text": [
      "INFO:tensorflow:Assets written to: models\\RNN_Final-03-0.552.model\\assets\n"
     ]
    },
    {
     "name": "stdout",
     "output_type": "stream",
     "text": [
      "1158/1158 [==============================] - 39s 33ms/step - loss: 0.6881 - accuracy: 0.5395 - val_loss: 0.6863 - val_accuracy: 0.5522\n",
      "Epoch 4/100\n",
      "1156/1158 [============================>.] - ETA: 0s - loss: 0.6864 - accuracy: 0.5473INFO:tensorflow:Assets written to: models\\RNN_Final-04-0.537.model\\assets\n"
     ]
    },
    {
     "name": "stderr",
     "output_type": "stream",
     "text": [
      "INFO:tensorflow:Assets written to: models\\RNN_Final-04-0.537.model\\assets\n"
     ]
    },
    {
     "name": "stdout",
     "output_type": "stream",
     "text": [
      "1158/1158 [==============================] - 39s 34ms/step - loss: 0.6864 - accuracy: 0.5474 - val_loss: 0.6875 - val_accuracy: 0.5372\n",
      "Epoch 5/100\n",
      "1158/1158 [==============================] - ETA: 0s - loss: 0.6844 - accuracy: 0.5550INFO:tensorflow:Assets written to: models\\RNN_Final-05-0.542.model\\assets\n"
     ]
    },
    {
     "name": "stderr",
     "output_type": "stream",
     "text": [
      "INFO:tensorflow:Assets written to: models\\RNN_Final-05-0.542.model\\assets\n"
     ]
    },
    {
     "name": "stdout",
     "output_type": "stream",
     "text": [
      "1158/1158 [==============================] - 38s 33ms/step - loss: 0.6844 - accuracy: 0.5550 - val_loss: 0.6863 - val_accuracy: 0.5420\n",
      "Epoch 6/100\n",
      "1158/1158 [==============================] - ETA: 0s - loss: 0.6826 - accuracy: 0.5564INFO:tensorflow:Assets written to: models\\RNN_Final-06-0.558.model\\assets\n"
     ]
    },
    {
     "name": "stderr",
     "output_type": "stream",
     "text": [
      "INFO:tensorflow:Assets written to: models\\RNN_Final-06-0.558.model\\assets\n"
     ]
    },
    {
     "name": "stdout",
     "output_type": "stream",
     "text": [
      "1158/1158 [==============================] - 39s 34ms/step - loss: 0.6826 - accuracy: 0.5564 - val_loss: 0.6854 - val_accuracy: 0.5579\n",
      "Epoch 7/100\n",
      "1156/1158 [============================>.] - ETA: 0s - loss: 0.6808 - accuracy: 0.5612INFO:tensorflow:Assets written to: models\\RNN_Final-07-0.562.model\\assets\n"
     ]
    },
    {
     "name": "stderr",
     "output_type": "stream",
     "text": [
      "INFO:tensorflow:Assets written to: models\\RNN_Final-07-0.562.model\\assets\n"
     ]
    },
    {
     "name": "stdout",
     "output_type": "stream",
     "text": [
      "1158/1158 [==============================] - 39s 33ms/step - loss: 0.6807 - accuracy: 0.5613 - val_loss: 0.6846 - val_accuracy: 0.5620\n",
      "Epoch 8/100\n",
      "1158/1158 [==============================] - ETA: 0s - loss: 0.6793 - accuracy: 0.5670INFO:tensorflow:Assets written to: models\\RNN_Final-08-0.544.model\\assets\n"
     ]
    },
    {
     "name": "stderr",
     "output_type": "stream",
     "text": [
      "INFO:tensorflow:Assets written to: models\\RNN_Final-08-0.544.model\\assets\n"
     ]
    },
    {
     "name": "stdout",
     "output_type": "stream",
     "text": [
      "1158/1158 [==============================] - 38s 33ms/step - loss: 0.6793 - accuracy: 0.5670 - val_loss: 0.6859 - val_accuracy: 0.5442\n",
      "Epoch 9/100\n",
      "1157/1158 [============================>.] - ETA: 0s - loss: 0.6767 - accuracy: 0.5734INFO:tensorflow:Assets written to: models\\RNN_Final-09-0.541.model\\assets\n"
     ]
    },
    {
     "name": "stderr",
     "output_type": "stream",
     "text": [
      "INFO:tensorflow:Assets written to: models\\RNN_Final-09-0.541.model\\assets\n"
     ]
    },
    {
     "name": "stdout",
     "output_type": "stream",
     "text": [
      "1158/1158 [==============================] - 39s 33ms/step - loss: 0.6767 - accuracy: 0.5733 - val_loss: 0.6865 - val_accuracy: 0.5413\n",
      "Epoch 10/100\n",
      "1156/1158 [============================>.] - ETA: 0s - loss: 0.6742 - accuracy: 0.5770INFO:tensorflow:Assets written to: models\\RNN_Final-10-0.554.model\\assets\n"
     ]
    },
    {
     "name": "stderr",
     "output_type": "stream",
     "text": [
      "INFO:tensorflow:Assets written to: models\\RNN_Final-10-0.554.model\\assets\n"
     ]
    },
    {
     "name": "stdout",
     "output_type": "stream",
     "text": [
      "1158/1158 [==============================] - 38s 33ms/step - loss: 0.6741 - accuracy: 0.5771 - val_loss: 0.6860 - val_accuracy: 0.5544\n",
      "Epoch 11/100\n",
      "1157/1158 [============================>.] - ETA: 0s - loss: 0.6719 - accuracy: 0.5806INFO:tensorflow:Assets written to: models\\RNN_Final-11-0.551.model\\assets\n"
     ]
    },
    {
     "name": "stderr",
     "output_type": "stream",
     "text": [
      "INFO:tensorflow:Assets written to: models\\RNN_Final-11-0.551.model\\assets\n"
     ]
    },
    {
     "name": "stdout",
     "output_type": "stream",
     "text": [
      "1158/1158 [==============================] - 39s 34ms/step - loss: 0.6719 - accuracy: 0.5805 - val_loss: 0.6876 - val_accuracy: 0.5509\n",
      "Epoch 11: early stopping\n",
      "Epoch 1/100\n",
      "1156/1158 [============================>.] - ETA: 0s - loss: 0.7026 - accuracy: 0.5248INFO:tensorflow:Assets written to: models\\RNN_Final-01-0.533.model\\assets\n"
     ]
    },
    {
     "name": "stderr",
     "output_type": "stream",
     "text": [
      "INFO:tensorflow:Assets written to: models\\RNN_Final-01-0.533.model\\assets\n"
     ]
    },
    {
     "name": "stdout",
     "output_type": "stream",
     "text": [
      "1158/1158 [==============================] - 44s 34ms/step - loss: 0.7026 - accuracy: 0.5249 - val_loss: 0.6901 - val_accuracy: 0.5334\n",
      "Epoch 2/100\n",
      "1157/1158 [============================>.] - ETA: 0s - loss: 0.6887 - accuracy: 0.5417INFO:tensorflow:Assets written to: models\\RNN_Final-02-0.546.model\\assets\n"
     ]
    },
    {
     "name": "stderr",
     "output_type": "stream",
     "text": [
      "INFO:tensorflow:Assets written to: models\\RNN_Final-02-0.546.model\\assets\n"
     ]
    },
    {
     "name": "stdout",
     "output_type": "stream",
     "text": [
      "1158/1158 [==============================] - 39s 33ms/step - loss: 0.6887 - accuracy: 0.5416 - val_loss: 0.6876 - val_accuracy: 0.5464\n",
      "Epoch 3/100\n",
      "1158/1158 [==============================] - ETA: 0s - loss: 0.6860 - accuracy: 0.5493INFO:tensorflow:Assets written to: models\\RNN_Final-03-0.538.model\\assets\n"
     ]
    },
    {
     "name": "stderr",
     "output_type": "stream",
     "text": [
      "INFO:tensorflow:Assets written to: models\\RNN_Final-03-0.538.model\\assets\n"
     ]
    },
    {
     "name": "stdout",
     "output_type": "stream",
     "text": [
      "1158/1158 [==============================] - 39s 33ms/step - loss: 0.6860 - accuracy: 0.5493 - val_loss: 0.6896 - val_accuracy: 0.5382\n",
      "Epoch 4/100\n",
      "1156/1158 [============================>.] - ETA: 0s - loss: 0.6844 - accuracy: 0.5535INFO:tensorflow:Assets written to: models\\RNN_Final-04-0.550.model\\assets\n"
     ]
    },
    {
     "name": "stderr",
     "output_type": "stream",
     "text": [
      "INFO:tensorflow:Assets written to: models\\RNN_Final-04-0.550.model\\assets\n"
     ]
    },
    {
     "name": "stdout",
     "output_type": "stream",
     "text": [
      "1158/1158 [==============================] - 39s 33ms/step - loss: 0.6844 - accuracy: 0.5535 - val_loss: 0.6801 - val_accuracy: 0.5499\n",
      "Epoch 5/100\n",
      "1158/1158 [==============================] - ETA: 0s - loss: 0.6835 - accuracy: 0.5562INFO:tensorflow:Assets written to: models\\RNN_Final-05-0.560.model\\assets\n"
     ]
    },
    {
     "name": "stderr",
     "output_type": "stream",
     "text": [
      "INFO:tensorflow:Assets written to: models\\RNN_Final-05-0.560.model\\assets\n"
     ]
    },
    {
     "name": "stdout",
     "output_type": "stream",
     "text": [
      "1158/1158 [==============================] - 38s 33ms/step - loss: 0.6835 - accuracy: 0.5562 - val_loss: 0.6824 - val_accuracy: 0.5598\n",
      "Epoch 6/100\n",
      "1156/1158 [============================>.] - ETA: 0s - loss: 0.6819 - accuracy: 0.5613INFO:tensorflow:Assets written to: models\\RNN_Final-06-0.551.model\\assets\n"
     ]
    },
    {
     "name": "stderr",
     "output_type": "stream",
     "text": [
      "INFO:tensorflow:Assets written to: models\\RNN_Final-06-0.551.model\\assets\n"
     ]
    },
    {
     "name": "stdout",
     "output_type": "stream",
     "text": [
      "1158/1158 [==============================] - 39s 34ms/step - loss: 0.6818 - accuracy: 0.5615 - val_loss: 0.6847 - val_accuracy: 0.5512\n",
      "Epoch 7/100\n",
      "1158/1158 [==============================] - ETA: 0s - loss: 0.6793 - accuracy: 0.5647INFO:tensorflow:Assets written to: models\\RNN_Final-07-0.563.model\\assets\n"
     ]
    },
    {
     "name": "stderr",
     "output_type": "stream",
     "text": [
      "INFO:tensorflow:Assets written to: models\\RNN_Final-07-0.563.model\\assets\n"
     ]
    },
    {
     "name": "stdout",
     "output_type": "stream",
     "text": [
      "1158/1158 [==============================] - 39s 33ms/step - loss: 0.6793 - accuracy: 0.5647 - val_loss: 0.6848 - val_accuracy: 0.5633\n",
      "Epoch 8/100\n",
      "1156/1158 [============================>.] - ETA: 0s - loss: 0.6776 - accuracy: 0.5716INFO:tensorflow:Assets written to: models\\RNN_Final-08-0.561.model\\assets\n"
     ]
    },
    {
     "name": "stderr",
     "output_type": "stream",
     "text": [
      "INFO:tensorflow:Assets written to: models\\RNN_Final-08-0.561.model\\assets\n"
     ]
    },
    {
     "name": "stdout",
     "output_type": "stream",
     "text": [
      "1158/1158 [==============================] - 39s 34ms/step - loss: 0.6776 - accuracy: 0.5715 - val_loss: 0.6808 - val_accuracy: 0.5611\n",
      "Epoch 8: early stopping\n"
     ]
    },
    {
     "data": {
      "text/plain": [
       "'model = Sequential()\\nmodel.add(LSTM(128, input_shape=(train_x.shape[1:]), return_sequences=True))\\nmodel.add(Dropout(0.2))\\nmodel.add(BatchNormalization())\\n\\nmodel.add(LSTM(128, input_shape=(train_x.shape[1:]), return_sequences=True))\\nmodel.add(Dropout(0.2)) # if anything weird, try putting this back to 0.2\\nmodel.add(BatchNormalization())\\n\\nmodel.add(LSTM(128, input_shape=(train_x.shape[1:])))\\nmodel.add(Dropout(0.2))\\nmodel.add(BatchNormalization())\\n\\nmodel.add(Dense(32, activation=\"relu\"))\\nmodel.add(Dropout(0.2))\\n\\nmodel.add(Dense(2, activation=\"softmax\"))\\n\\nopt = tf.keras.optimizers.Adam(learning_rate=0.001, decay=1e-6)\\n\\nmodel.compile(loss=\\'sparse_categorical_crossentropy\\', optimizer=opt, metrics=[\\'accuracy\\']) # consider binary crossentropy for loss\\n\\ntensorboard = TensorBoard(log_dir=f\\'logs/{NAME}\\')\\n\\nfilepath = \"RNN_Final-{epoch:02d}-{val_accuracy:.3f}\"\\ncheckpoint = ModelCheckpoint(\"models/{}.model\".format(filepath, monitor=\"val_accuracy\", verbose=1, save_best_only=True, mode=\"max\"))\\n\\ntrain_x = np.asarray(train_x)\\ntrain_y = np.asarray(train_y)\\nvalidation_x = np.asarray(validation_x)\\nvalidation_y = np.asarray(validation_y)\\n\\nhistory = model.fit(train_x, train_y, \\n                    batch_size=BATCH_SIZE, \\n                    epochs=EPOCHS, \\n                    validation_data=(validation_x, validation_y), \\n                    callbacks=[tensorboard, checkpoint])'"
      ]
     },
     "execution_count": 6,
     "metadata": {},
     "output_type": "execute_result"
    }
   ],
   "source": [
    "\n",
    "for LSTM_LAYER in LSTM_LAYERS:\n",
    "    for LSTM_LAYER_SIZE in LSTM_LAYER_SIZES:\n",
    "        for DENSE_LAYER_SIZE in DENSE_LAYER_SIZES: \n",
    "            \n",
    "            NAME = f\"{RATIO_TO_PREDICT}-{SEQ_LEN}-SEQ-{FUTURE_PERIOD_PREDICT}-PRED-{BATCH_SIZE}-BATCH-{LSTM_LAYER}-LSTM-{DENSE_LAYER_SIZE}-DENSE_NODE-{LSTM_LAYER_SIZE}-LSTM_NODE-{LR}-LEARN_RATE-{DECAY}-DECAY-{int(time.time())}\"\n",
    "            \n",
    "            tensorboard = TensorBoard(log_dir=f'logs/{NAME}')\n",
    "            \n",
    "            early_stop = EarlyStopping(monitor='val_loss', min_delta=0, patience=4, verbose=1, mode='auto')\n",
    "            \n",
    "            model = Sequential()\n",
    "            \n",
    "            for l in range(LSTM_LAYER):\n",
    "                if l < LSTM_LAYER -1:\n",
    "                    model.add(LSTM(LSTM_LAYER_SIZE, input_shape=(train_x.shape[1:]), return_sequences=True))\n",
    "                    model.add(Dropout(0.2))\n",
    "                    model.add(BatchNormalization())\n",
    "                else:\n",
    "                    model.add(LSTM(LSTM_LAYER_SIZE, input_shape=(train_x.shape[1:])))\n",
    "                    model.add(Dropout(0.3))\n",
    "                    model.add(BatchNormalization())\n",
    "            \n",
    "            model.add(Dense(DENSE_LAYER_SIZE, activation=\"relu\"))\n",
    "            model.add(Dropout(0.3))\n",
    "            \n",
    "            model.add(Dense(2, activation=\"softmax\"))\n",
    "            \n",
    "            opt = tf.keras.optimizers.Adam(learning_rate=LR, decay=DECAY)\n",
    "\n",
    "            model.compile(loss='sparse_categorical_crossentropy', optimizer=opt, metrics=['accuracy']) # consider binary crossentropy for loss\n",
    "            \n",
    "            filepath = \"RNN_Final-{epoch:02d}-{val_accuracy:.3f}\"\n",
    "            checkpoint = ModelCheckpoint(\"models/{}.model\".format(filepath, monitor=\"val_accuracy\", verbose=1, save_best_only=True, mode=\"max\"))\n",
    "            \n",
    "            train_x = np.asarray(train_x)\n",
    "            train_y = np.asarray(train_y)\n",
    "            validation_x = np.asarray(validation_x)\n",
    "            validation_y = np.asarray(validation_y)\n",
    "\n",
    "            history = model.fit(train_x, train_y, \n",
    "                                batch_size=BATCH_SIZE, \n",
    "                                epochs=EPOCHS, \n",
    "                                validation_data=(validation_x, validation_y), \n",
    "                                callbacks=[tensorboard, checkpoint, early_stop])\n",
    "\n",
    "            # model.save(f'{NAME}.model', save_format=\"h5\")\n",
    "\"\"\"model = Sequential()\n",
    "model.add(LSTM(128, input_shape=(train_x.shape[1:]), return_sequences=True))\n",
    "model.add(Dropout(0.2))\n",
    "model.add(BatchNormalization())\n",
    "\n",
    "model.add(LSTM(128, input_shape=(train_x.shape[1:]), return_sequences=True))\n",
    "model.add(Dropout(0.2)) # if anything weird, try putting this back to 0.2\n",
    "model.add(BatchNormalization())\n",
    "\n",
    "model.add(LSTM(128, input_shape=(train_x.shape[1:])))\n",
    "model.add(Dropout(0.2))\n",
    "model.add(BatchNormalization())\n",
    "\n",
    "model.add(Dense(32, activation=\"relu\"))\n",
    "model.add(Dropout(0.2))\n",
    "\n",
    "model.add(Dense(2, activation=\"softmax\"))\n",
    "\n",
    "opt = tf.keras.optimizers.Adam(learning_rate=0.001, decay=1e-6)\n",
    "\n",
    "model.compile(loss='sparse_categorical_crossentropy', optimizer=opt, metrics=['accuracy']) # consider binary crossentropy for loss\n",
    "\n",
    "tensorboard = TensorBoard(log_dir=f'logs/{NAME}')\n",
    "\n",
    "filepath = \"RNN_Final-{epoch:02d}-{val_accuracy:.3f}\"\n",
    "checkpoint = ModelCheckpoint(\"models/{}.model\".format(filepath, monitor=\"val_accuracy\", verbose=1, save_best_only=True, mode=\"max\"))\n",
    "\n",
    "train_x = np.asarray(train_x)\n",
    "train_y = np.asarray(train_y)\n",
    "validation_x = np.asarray(validation_x)\n",
    "validation_y = np.asarray(validation_y)\n",
    "\n",
    "history = model.fit(train_x, train_y, \n",
    "                    batch_size=BATCH_SIZE, \n",
    "                    epochs=EPOCHS, \n",
    "                    validation_data=(validation_x, validation_y), \n",
    "                    callbacks=[tensorboard, checkpoint])\"\"\""
   ]
  }
 ],
 "metadata": {
  "kernelspec": {
   "display_name": "Python 3.10.4 ('.venv': pipenv)",
   "language": "python",
   "name": "python3"
  },
  "language_info": {
   "codemirror_mode": {
    "name": "ipython",
    "version": 3
   },
   "file_extension": ".py",
   "mimetype": "text/x-python",
   "name": "python",
   "nbconvert_exporter": "python",
   "pygments_lexer": "ipython3",
   "version": "3.10.4"
  },
  "orig_nbformat": 4,
  "vscode": {
   "interpreter": {
    "hash": "6381ab6089f4b43891eec0868b66d2b02f7a98be95f65493352a9e4f963b46f2"
   }
  }
 },
 "nbformat": 4,
 "nbformat_minor": 2
}
