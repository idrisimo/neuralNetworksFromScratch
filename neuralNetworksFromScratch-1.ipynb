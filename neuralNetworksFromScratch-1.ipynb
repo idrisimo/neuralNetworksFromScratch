{
 "cells": [
  {
   "cell_type": "code",
   "execution_count": 47,
   "metadata": {},
   "outputs": [
    {
     "name": "stdout",
     "output_type": "stream",
     "text": [
      "[4.8, 1.21, 2.385]\n"
     ]
    }
   ],
   "source": [
    "# Part 1 and 2\n",
    "\n",
    "inputs = [1, 2, 3, 2.5]\n",
    "weights1 = [0.2, 0.8, -0.5, 1.0]\n",
    "weights2 = [0.5, -0.91, 0.26, -0.5]\n",
    "weights3 = [-0.26, -0.27, 0.17, 0.87]\n",
    "bias1 = 2\n",
    "bias2 = 3\n",
    "bias3 = 0.5\n",
    "\n",
    "output = [inputs[0]*weights1[0] + inputs[1]*weights1[1] + inputs[2]*weights1[2] + inputs[3]*weights1[3] + bias1,\n",
    "          inputs[0]*weights2[0] + inputs[1]*weights2[1] + inputs[2]*weights2[2] + inputs[3]*weights2[3] + bias2,\n",
    "          inputs[0]*weights3[0] + inputs[1]*weights3[1] + inputs[2]*weights3[2] + inputs[3]*weights3[3] + bias3]\n",
    "print(output)\n"
   ]
  },
  {
   "cell_type": "code",
   "execution_count": 48,
   "metadata": {},
   "outputs": [],
   "source": [
    "import numpy as np"
   ]
  },
  {
   "cell_type": "code",
   "execution_count": 49,
   "metadata": {},
   "outputs": [
    {
     "name": "stdout",
     "output_type": "stream",
     "text": [
      "[4.8   1.21  2.385]\n",
      "[4.8, 1.21, 2.385]\n"
     ]
    }
   ],
   "source": [
    "# Part 3\n",
    "\n",
    "inputs = [1, 2, 3, 2.5]\n",
    "weights = [[0.2, 0.8, -0.5, 1.0], \n",
    "           [0.5, -0.91, 0.26, -0.5], \n",
    "            [-0.26, -0.27, 0.17, 0.87] ]\n",
    "biases = [2, 3, 0.5]\n",
    "\n",
    "output = np.dot(weights, inputs) + biases\n",
    "\n",
    "print(output)\n",
    "\n",
    "# Does the same as above but with more code\n",
    "weights = [[0.2, 0.8, -0.5, 1.0], \n",
    "           [0.5, -0.91, 0.26, -0.5], \n",
    "            [-0.26, -0.27, 0.17, 0.87] ]\n",
    "\n",
    "biases = [2, 3, 0.5]\n",
    "\n",
    "layer_outputs = [] # Output of current layer\n",
    "for neuron_weights, neuron_bias in zip(weights, biases):\n",
    "    neuron_output = 0 # Output of given neuron\n",
    "    for n_input, weight in zip(inputs, neuron_weights):\n",
    "        neuron_output += n_input * weight\n",
    "    neuron_output += neuron_bias\n",
    "    layer_outputs.append(neuron_output)\n",
    "\n",
    "print(layer_outputs)\n"
   ]
  },
  {
   "cell_type": "code",
   "execution_count": 50,
   "metadata": {},
   "outputs": [
    {
     "name": "stdout",
     "output_type": "stream",
     "text": [
      "[[ 0.148296   -0.08397602]\n",
      " [ 0.14100315 -0.01340469]\n",
      " [ 0.20124979 -0.07290616]]\n"
     ]
    }
   ],
   "source": [
    "# Part 4\n",
    "\n",
    "# inputs = [[1.0, 2.0, 3.0, 2.5],\n",
    "#           [2.0, 5.0, -1.0, 2.0],\n",
    "#           [-1.5, 2.7, 3.3, -0.8]]\n",
    "\n",
    "# weights = [[0.2, 0.8, -0.5, 1.0], \n",
    "#            [0.5, -0.91, 0.26, -0.5], \n",
    "#             [-0.26, -0.27, 0.17, 0.87]]\n",
    "\n",
    "# biases = [2, 3, 0.5]\n",
    "\n",
    "# weights2 = [[0.1, -0.14, 0.5], \n",
    "#            [-0.5, 0.12, -0.33], \n",
    "#             [-0.44, 0.73, -0.13]]\n",
    "\n",
    "# biases2 = [-1, 2 , -0.5]\n",
    "\n",
    "# layer1_outputs = np.dot(inputs, np.array(weights).T) + biases\n",
    "# layer2_outputs = np.dot(layer1_outputs, np.array(weights2).T) + biases2\n",
    "\n",
    "# print(layer2_outputs)\n",
    "\n",
    "np.random.seed(0)\n",
    "X = [[1.0, 2.0, 3.0, 2.5], \n",
    "     [2.0, 5.0, -1.0, 2.0], \n",
    "     [-1.5, 2.7, 3.3, -0.8]]\n",
    "\n",
    "\n",
    "class Layer_Dense:\n",
    "    \n",
    "    def __init__(self, n_inputs, n_neurons):\n",
    "        self.weights = 0.10 * np.random.randn(n_inputs, n_neurons) # Note: Generates a lol on numbers between -1 and 1.\n",
    "        self.biases = np.zeros((1, n_neurons)) # Note: Best to start with biases as 0 unless there is a likely hood of the zero propegating through the network, resulting in a \"dead\" network.\n",
    "    def forward(self, inputs):\n",
    "        self.output =  np.dot(inputs, self.weights) + self.biases\n",
    "    \n",
    "layer1 = Layer_Dense(4,5)\n",
    "layer2 = Layer_Dense(5,2)\n",
    "\n",
    "layer1.forward(X)\n",
    "# print(layer1.output)\n",
    "layer2.forward(layer1.output)\n",
    "print(layer2.output)\n"
   ]
  },
  {
   "cell_type": "code",
   "execution_count": 54,
   "metadata": {},
   "outputs": [
    {
     "ename": "ModuleNotFoundError",
     "evalue": "No module named 'matplotlib'",
     "output_type": "error",
     "traceback": [
      "\u001b[1;31m---------------------------------------------------------------------------\u001b[0m",
      "\u001b[1;31mModuleNotFoundError\u001b[0m                       Traceback (most recent call last)",
      "\u001b[1;32me:\\Documents - data drive\\coding\\machineLearningProjects\\neuralNetworkPractice\\neuralNetworksFromScratch-1.ipynb Cell 5'\u001b[0m in \u001b[0;36m<cell line: 17>\u001b[1;34m()\u001b[0m\n\u001b[0;32m     <a href='vscode-notebook-cell:/e%3A/Documents%20-%20data%20drive/coding/machineLearningProjects/neuralNetworkPractice/neuralNetworksFromScratch-1.ipynb#ch0000008?line=13'>14</a>\u001b[0m         y[ix]\u001b[39m=\u001b[39mclass_number\n\u001b[0;32m     <a href='vscode-notebook-cell:/e%3A/Documents%20-%20data%20drive/coding/machineLearningProjects/neuralNetworkPractice/neuralNetworksFromScratch-1.ipynb#ch0000008?line=14'>15</a>\u001b[0m     \u001b[39mreturn\u001b[39;00m X,y\n\u001b[1;32m---> <a href='vscode-notebook-cell:/e%3A/Documents%20-%20data%20drive/coding/machineLearningProjects/neuralNetworkPractice/neuralNetworksFromScratch-1.ipynb#ch0000008?line=16'>17</a>\u001b[0m \u001b[39mfrom\u001b[39;00m \u001b[39mmatplotlib\u001b[39;00m \u001b[39mimport\u001b[39;00m pyplot \u001b[39mas\u001b[39;00m plt\n\u001b[0;32m     <a href='vscode-notebook-cell:/e%3A/Documents%20-%20data%20drive/coding/machineLearningProjects/neuralNetworkPractice/neuralNetworksFromScratch-1.ipynb#ch0000008?line=18'>19</a>\u001b[0m \u001b[39mprint\u001b[39m(\u001b[39m\"\u001b[39m\u001b[39mhere\u001b[39m\u001b[39m\"\u001b[39m)\n\u001b[0;32m     <a href='vscode-notebook-cell:/e%3A/Documents%20-%20data%20drive/coding/machineLearningProjects/neuralNetworkPractice/neuralNetworksFromScratch-1.ipynb#ch0000008?line=19'>20</a>\u001b[0m X, y\u001b[39m=\u001b[39mcreate_data(\u001b[39m100\u001b[39m, \u001b[39m3\u001b[39m)\n",
      "\u001b[1;31mModuleNotFoundError\u001b[0m: No module named 'matplotlib'"
     ]
    }
   ],
   "source": [
    "np.random.seed(0)\n",
    "\n",
    "# https://cs231n.github.io/neural-networks-case-study/\n",
    "\n",
    "\n",
    "def create_data(points, classes):\n",
    "    X = np.zeros((points*classes, 2))\n",
    "    y = np.zeros(points*classes, dtype='uint8')\n",
    "    for class_number in range(classes):\n",
    "        ix = range(points*class_number, points*(class_number+1))\n",
    "        r=np.linspace(0.0, 1, points) # radius\n",
    "        t=np.linspace(class_number*4, (class_number+1)*4, points)+np.random.randn(points)*0.2\n",
    "        X[ix] = np.c_[r*np.sin(t*2.5), r*np.cos(t*2.5)]\n",
    "        y[ix]=class_number\n",
    "    return X,y\n",
    "import matplotlib.pyplot as plt\n",
    "\n",
    "print(\"here\")\n",
    "X, y=create_data(100, 3)"
   ]
  },
  {
   "cell_type": "code",
   "execution_count": null,
   "metadata": {},
   "outputs": [
    {
     "ename": "ModuleNotFoundError",
     "evalue": "No module named 'nnfs'",
     "output_type": "error",
     "traceback": [
      "\u001b[1;31m---------------------------------------------------------------------------\u001b[0m",
      "\u001b[1;31mModuleNotFoundError\u001b[0m                       Traceback (most recent call last)",
      "\u001b[1;32me:\\Documents - data drive\\coding\\machineLearningProjects\\neuralNetworkPractice\\neuralNetworksFromScratch-1.ipynb Cell 5'\u001b[0m in \u001b[0;36m<cell line: 8>\u001b[1;34m()\u001b[0m\n\u001b[0;32m      <a href='vscode-notebook-cell:/e%3A/Documents%20-%20data%20drive/coding/machineLearningProjects/neuralNetworkPractice/neuralNetworksFromScratch-1.ipynb#ch0000006?line=0'>1</a>\u001b[0m \u001b[39m# Part 5 - Activation functions\u001b[39;00m\n\u001b[0;32m      <a href='vscode-notebook-cell:/e%3A/Documents%20-%20data%20drive/coding/machineLearningProjects/neuralNetworkPractice/neuralNetworksFromScratch-1.ipynb#ch0000006?line=2'>3</a>\u001b[0m \u001b[39m'''Types of activation functions\u001b[39;00m\n\u001b[0;32m      <a href='vscode-notebook-cell:/e%3A/Documents%20-%20data%20drive/coding/machineLearningProjects/neuralNetworkPractice/neuralNetworksFromScratch-1.ipynb#ch0000006?line=3'>4</a>\u001b[0m \u001b[39m- Step function: result will either be a 1 or 0  https://youtu.be/gmjzbpSVY1A?t=58\u001b[39;00m\n\u001b[0;32m      <a href='vscode-notebook-cell:/e%3A/Documents%20-%20data%20drive/coding/machineLearningProjects/neuralNetworkPractice/neuralNetworksFromScratch-1.ipynb#ch0000006?line=4'>5</a>\u001b[0m \u001b[39m- Sigmoid function: alot more granular output. Helps figure out accuracy of neural network more accurately  https://youtu.be/gmjzbpSVY1A?t=203\u001b[39;00m\n\u001b[0;32m      <a href='vscode-notebook-cell:/e%3A/Documents%20-%20data%20drive/coding/machineLearningProjects/neuralNetworkPractice/neuralNetworksFromScratch-1.ipynb#ch0000006?line=5'>6</a>\u001b[0m \u001b[39m- Rectified linear unit activation function: granular, similar to sigmoid, but faster because its a simpler calculation  https://youtu.be/gmjzbpSVY1A?t=267\u001b[39;00m\n\u001b[0;32m      <a href='vscode-notebook-cell:/e%3A/Documents%20-%20data%20drive/coding/machineLearningProjects/neuralNetworkPractice/neuralNetworksFromScratch-1.ipynb#ch0000006?line=6'>7</a>\u001b[0m \u001b[39m'''\u001b[39;00m\n\u001b[1;32m----> <a href='vscode-notebook-cell:/e%3A/Documents%20-%20data%20drive/coding/machineLearningProjects/neuralNetworkPractice/neuralNetworksFromScratch-1.ipynb#ch0000006?line=7'>8</a>\u001b[0m \u001b[39mimport\u001b[39;00m \u001b[39mnnfs\u001b[39;00m\n\u001b[0;32m      <a href='vscode-notebook-cell:/e%3A/Documents%20-%20data%20drive/coding/machineLearningProjects/neuralNetworkPractice/neuralNetworksFromScratch-1.ipynb#ch0000006?line=8'>9</a>\u001b[0m \u001b[39mfrom\u001b[39;00m \u001b[39mnnfs\u001b[39;00m\u001b[39m.\u001b[39;00m\u001b[39mdatasets\u001b[39;00m \u001b[39mimport\u001b[39;00m spiral_data\n\u001b[0;32m     <a href='vscode-notebook-cell:/e%3A/Documents%20-%20data%20drive/coding/machineLearningProjects/neuralNetworkPractice/neuralNetworksFromScratch-1.ipynb#ch0000006?line=10'>11</a>\u001b[0m nnfs\u001b[39m.\u001b[39minit()\n",
      "\u001b[1;31mModuleNotFoundError\u001b[0m: No module named 'nnfs'"
     ]
    }
   ],
   "source": [
    "# Part 5 - Activation functions\n",
    "\n",
    "'''Types of activation functions\n",
    "- Step function: result will either be a 1 or 0  https://youtu.be/gmjzbpSVY1A?t=58\n",
    "- Sigmoid function: alot more granular output. Helps figure out accuracy of neural network more accurately  https://youtu.be/gmjzbpSVY1A?t=203\n",
    "- Rectified linear unit activation function: granular, similar to sigmoid, but faster because its a simpler calculation  https://youtu.be/gmjzbpSVY1A?t=267\n",
    "'''\n",
    "import nnfs\n",
    "from nnfs.datasets import spiral_data\n",
    "\n",
    "nnfs.init()\n",
    "\n",
    "\n",
    "X = [[1.0, 2.0, 3.0, 2.5], \n",
    "     [2.0, 5.0, -1.0, 2.0], \n",
    "     [-1.5, 2.7, 3.3, -0.8]]\n",
    "\n",
    "X, y = spiral_data(100,3)\n",
    "\n",
    "\n",
    "'''inputs = [0, 2, -1, 3.3, -2.7, 1.1, 2.2, -100]\n",
    "output = []\n",
    "\n",
    "\n",
    "# Rectified linear unit activation function\n",
    "# for i in inputs:\n",
    "#     if i>0:\n",
    "#         output.append(i)\n",
    "#     elif i <= 0:\n",
    "#         output.append(0)\n",
    "# print(output)\n",
    "# another way of doing the rlua is the following:\n",
    "for i in inputs:\n",
    "    output.append(max(0,i))\n",
    "# print(output)'''\n",
    "\n",
    "class Layer_Dense:\n",
    "    \n",
    "    def __init__(self, n_inputs, n_neurons):\n",
    "        self.weights = 0.10 * np.random.randn(n_inputs, n_neurons) \n",
    "        self.biases = np.zeros((1, n_neurons))\n",
    "    def forward(self, inputs):\n",
    "        self.output =  np.dot(inputs, self.weights) + self.biases\n",
    "class Activation_ReLU:\n",
    "    def forward(self, inputs):\n",
    "        self.output = np.maximum(0, inputs)\n",
    "    \n",
    "    \n",
    "layer1 = Layer_Dense(4,5)\n",
    "layer2 = Layer_Dense(5,2)\n",
    "\n",
    "layer1.forward(X)\n",
    "# print(layer1.output)\n",
    "layer2.forward(layer1.output)\n",
    "print(layer2.output)\n"
   ]
  }
 ],
 "metadata": {
  "kernelspec": {
   "display_name": "Python 3.10.0b3 64-bit ('3.10.0b3')",
   "language": "python",
   "name": "python3"
  },
  "language_info": {
   "codemirror_mode": {
    "name": "ipython",
    "version": 3
   },
   "file_extension": ".py",
   "mimetype": "text/x-python",
   "name": "python",
   "nbconvert_exporter": "python",
   "pygments_lexer": "ipython3",
   "version": "3.10.0b3"
  },
  "orig_nbformat": 4,
  "vscode": {
   "interpreter": {
    "hash": "544f34b07176bcec57817df679a30d789d31618957d7ab8ab00639334d4b4b27"
   }
  }
 },
 "nbformat": 4,
 "nbformat_minor": 2
}
