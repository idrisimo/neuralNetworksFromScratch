{
 "cells": [
  {
   "cell_type": "code",
   "execution_count": 32,
   "metadata": {},
   "outputs": [
    {
     "name": "stdout",
     "output_type": "stream",
     "text": [
      "[4.8, 1.21, 2.385]\n"
     ]
    }
   ],
   "source": [
    "# Part 1 and 2\n",
    "\n",
    "inputs = [1, 2, 3, 2.5]\n",
    "weights1 = [0.2, 0.8, -0.5, 1.0]\n",
    "weights2 = [0.5, -0.91, 0.26, -0.5]\n",
    "weights3 = [-0.26, -0.27, 0.17, 0.87]\n",
    "bias1 = 2\n",
    "bias2 = 3\n",
    "bias3 = 0.5\n",
    "\n",
    "output = [inputs[0]*weights1[0] + inputs[1]*weights1[1] + inputs[2]*weights1[2] + inputs[3]*weights1[3] + bias1,\n",
    "          inputs[0]*weights2[0] + inputs[1]*weights2[1] + inputs[2]*weights2[2] + inputs[3]*weights2[3] + bias2,\n",
    "          inputs[0]*weights3[0] + inputs[1]*weights3[1] + inputs[2]*weights3[2] + inputs[3]*weights3[3] + bias3]\n",
    "print(output)\n"
   ]
  },
  {
   "cell_type": "code",
   "execution_count": 33,
   "metadata": {},
   "outputs": [
    {
     "name": "stdout",
     "output_type": "stream",
     "text": [
      "c:\\Users\\JDSan\\.virtualenvs\\neuralNetworkPractice-LP908O5V\\Scripts\\python.exe\n"
     ]
    }
   ],
   "source": [
    "print(sys.executable)"
   ]
  },
  {
   "cell_type": "code",
   "execution_count": 34,
   "metadata": {},
   "outputs": [],
   "source": [
    "import numpy as np"
   ]
  },
  {
   "cell_type": "code",
   "execution_count": 35,
   "metadata": {},
   "outputs": [
    {
     "ename": "AttributeError",
     "evalue": "'list' object has no attribute 'astype'",
     "output_type": "error",
     "traceback": [
      "\u001b[1;31m---------------------------------------------------------------------------\u001b[0m",
      "\u001b[1;31mAttributeError\u001b[0m                            Traceback (most recent call last)",
      "\u001b[1;32me:\\Documents - data drive\\coding\\machineLearningProjects\\neuralNetworkPractice\\neuralNetworksFromScratch-1.ipynb Cell 4'\u001b[0m in \u001b[0;36m<cell line: 9>\u001b[1;34m()\u001b[0m\n\u001b[0;32m      <a href='vscode-notebook-cell:/e%3A/Documents%20-%20data%20drive/coding/machineLearningProjects/neuralNetworkPractice/neuralNetworksFromScratch-1.ipynb#ch0000003?line=3'>4</a>\u001b[0m weights \u001b[39m=\u001b[39m [[\u001b[39m0.2\u001b[39m, \u001b[39m0.8\u001b[39m, \u001b[39m-\u001b[39m\u001b[39m0.5\u001b[39m, \u001b[39m1.0\u001b[39m], \n\u001b[0;32m      <a href='vscode-notebook-cell:/e%3A/Documents%20-%20data%20drive/coding/machineLearningProjects/neuralNetworkPractice/neuralNetworksFromScratch-1.ipynb#ch0000003?line=4'>5</a>\u001b[0m            [\u001b[39m0.5\u001b[39m, \u001b[39m-\u001b[39m\u001b[39m0.91\u001b[39m, \u001b[39m0.26\u001b[39m, \u001b[39m-\u001b[39m\u001b[39m0.5\u001b[39m], \n\u001b[0;32m      <a href='vscode-notebook-cell:/e%3A/Documents%20-%20data%20drive/coding/machineLearningProjects/neuralNetworkPractice/neuralNetworksFromScratch-1.ipynb#ch0000003?line=5'>6</a>\u001b[0m             [\u001b[39m-\u001b[39m\u001b[39m0.26\u001b[39m, \u001b[39m-\u001b[39m\u001b[39m0.27\u001b[39m, \u001b[39m0.17\u001b[39m, \u001b[39m0.87\u001b[39m] ]\n\u001b[0;32m      <a href='vscode-notebook-cell:/e%3A/Documents%20-%20data%20drive/coding/machineLearningProjects/neuralNetworkPractice/neuralNetworksFromScratch-1.ipynb#ch0000003?line=6'>7</a>\u001b[0m biases \u001b[39m=\u001b[39m [\u001b[39m2\u001b[39m, \u001b[39m3\u001b[39m, \u001b[39m0.5\u001b[39m]\n\u001b[1;32m----> <a href='vscode-notebook-cell:/e%3A/Documents%20-%20data%20drive/coding/machineLearningProjects/neuralNetworkPractice/neuralNetworksFromScratch-1.ipynb#ch0000003?line=8'>9</a>\u001b[0m output \u001b[39m=\u001b[39m np\u001b[39m.\u001b[39;49mdot(weights, inputs) \u001b[39m+\u001b[39m biases\n\u001b[0;32m     <a href='vscode-notebook-cell:/e%3A/Documents%20-%20data%20drive/coding/machineLearningProjects/neuralNetworkPractice/neuralNetworksFromScratch-1.ipynb#ch0000003?line=10'>11</a>\u001b[0m \u001b[39mprint\u001b[39m(output)\n\u001b[0;32m     <a href='vscode-notebook-cell:/e%3A/Documents%20-%20data%20drive/coding/machineLearningProjects/neuralNetworkPractice/neuralNetworksFromScratch-1.ipynb#ch0000003?line=12'>13</a>\u001b[0m \u001b[39m# Does the same as above but with more code\u001b[39;00m\n",
      "File \u001b[1;32mc:\\Users\\JDSan\\.virtualenvs\\neuralNetworkPractice-LP908O5V\\lib\\site-packages\\nnfs\\core.py:22\u001b[0m, in \u001b[0;36minit.<locals>.dot\u001b[1;34m(*args, **kwargs)\u001b[0m\n\u001b[0;32m     21\u001b[0m \u001b[39mdef\u001b[39;00m \u001b[39mdot\u001b[39m(\u001b[39m*\u001b[39margs, \u001b[39m*\u001b[39m\u001b[39m*\u001b[39mkwargs):\n\u001b[1;32m---> 22\u001b[0m     \u001b[39mreturn\u001b[39;00m orig_dot(\u001b[39m*\u001b[39m[a\u001b[39m.\u001b[39mastype(\u001b[39m'\u001b[39m\u001b[39mfloat64\u001b[39m\u001b[39m'\u001b[39m) \u001b[39mfor\u001b[39;00m a \u001b[39min\u001b[39;00m args], \u001b[39m*\u001b[39m\u001b[39m*\u001b[39mkwargs)\u001b[39m.\u001b[39mastype(\u001b[39m'\u001b[39m\u001b[39mfloat32\u001b[39m\u001b[39m'\u001b[39m)\n",
      "File \u001b[1;32mc:\\Users\\JDSan\\.virtualenvs\\neuralNetworkPractice-LP908O5V\\lib\\site-packages\\nnfs\\core.py:22\u001b[0m, in \u001b[0;36m<listcomp>\u001b[1;34m(.0)\u001b[0m\n\u001b[0;32m     21\u001b[0m \u001b[39mdef\u001b[39;00m \u001b[39mdot\u001b[39m(\u001b[39m*\u001b[39margs, \u001b[39m*\u001b[39m\u001b[39m*\u001b[39mkwargs):\n\u001b[1;32m---> 22\u001b[0m     \u001b[39mreturn\u001b[39;00m orig_dot(\u001b[39m*\u001b[39m[a\u001b[39m.\u001b[39;49mastype(\u001b[39m'\u001b[39m\u001b[39mfloat64\u001b[39m\u001b[39m'\u001b[39m) \u001b[39mfor\u001b[39;00m a \u001b[39min\u001b[39;00m args], \u001b[39m*\u001b[39m\u001b[39m*\u001b[39mkwargs)\u001b[39m.\u001b[39mastype(\u001b[39m'\u001b[39m\u001b[39mfloat32\u001b[39m\u001b[39m'\u001b[39m)\n",
      "\u001b[1;31mAttributeError\u001b[0m: 'list' object has no attribute 'astype'"
     ]
    }
   ],
   "source": [
    "# Part 3\n",
    "\n",
    "inputs = [1, 2, 3, 2.5]\n",
    "weights = [[0.2, 0.8, -0.5, 1.0], \n",
    "           [0.5, -0.91, 0.26, -0.5], \n",
    "            [-0.26, -0.27, 0.17, 0.87] ]\n",
    "biases = [2, 3, 0.5]\n",
    "\n",
    "output = np.dot(weights, inputs) + biases\n",
    "\n",
    "print(output)\n",
    "\n",
    "# Does the same as above but with more code\n",
    "weights = [[0.2, 0.8, -0.5, 1.0], \n",
    "           [0.5, -0.91, 0.26, -0.5], \n",
    "            [-0.26, -0.27, 0.17, 0.87] ]\n",
    "\n",
    "biases = [2, 3, 0.5]\n",
    "\n",
    "layer_outputs = [] # Output of current layer\n",
    "for neuron_weights, neuron_bias in zip(weights, biases):\n",
    "    neuron_output = 0 # Output of given neuron\n",
    "    for n_input, weight in zip(inputs, neuron_weights):\n",
    "        neuron_output += n_input * weight\n",
    "    neuron_output += neuron_bias\n",
    "    layer_outputs.append(neuron_output)\n",
    "\n",
    "print(layer_outputs)\n"
   ]
  },
  {
   "cell_type": "code",
   "execution_count": null,
   "metadata": {},
   "outputs": [],
   "source": [
    "# Part 4\n",
    "\n",
    "# inputs = [[1.0, 2.0, 3.0, 2.5],\n",
    "#           [2.0, 5.0, -1.0, 2.0],\n",
    "#           [-1.5, 2.7, 3.3, -0.8]]\n",
    "\n",
    "# weights = [[0.2, 0.8, -0.5, 1.0], \n",
    "#            [0.5, -0.91, 0.26, -0.5], \n",
    "#             [-0.26, -0.27, 0.17, 0.87]]\n",
    "\n",
    "# biases = [2, 3, 0.5]\n",
    "\n",
    "# weights2 = [[0.1, -0.14, 0.5], \n",
    "#            [-0.5, 0.12, -0.33], \n",
    "#             [-0.44, 0.73, -0.13]]\n",
    "\n",
    "# biases2 = [-1, 2 , -0.5]\n",
    "\n",
    "# layer1_outputs = np.dot(inputs, np.array(weights).T) + biases\n",
    "# layer2_outputs = np.dot(layer1_outputs, np.array(weights2).T) + biases2\n",
    "\n",
    "# print(layer2_outputs)\n",
    "\n",
    "np.random.seed(0)\n",
    "X = [[1.0, 2.0, 3.0, 2.5], \n",
    "     [2.0, 5.0, -1.0, 2.0], \n",
    "     [-1.5, 2.7, 3.3, -0.8]]\n",
    "\n",
    "\n",
    "class Layer_Dense:\n",
    "    \n",
    "    def __init__(self, n_inputs, n_neurons):\n",
    "        self.weights = 0.10 * np.random.randn(n_inputs, n_neurons) # Note: Generates a lol on numbers between -1 and 1.\n",
    "        self.biases = np.zeros((1, n_neurons)) # Note: Best to start with biases as 0 unless there is a likely hood of the zero propegating through the network, resulting in a \"dead\" network.\n",
    "    def forward(self, inputs):\n",
    "        self.output =  np.dot(inputs, self.weights) + self.biases\n",
    "    \n",
    "layer1 = Layer_Dense(4,5)\n",
    "layer2 = Layer_Dense(5,2)\n",
    "\n",
    "layer1.forward(X)\n",
    "# print(layer1.output)\n",
    "layer2.forward(layer1.output)\n",
    "print(layer2.output)\n"
   ]
  },
  {
   "cell_type": "code",
   "execution_count": null,
   "metadata": {},
   "outputs": [],
   "source": [
    "# Part 5\n",
    "np.random.seed(0)\n",
    "\n",
    "# https://cs231n.github.io/neural-networks-case-study/\n",
    "\n",
    "\n",
    "def create_data(points, classes):\n",
    "    X = np.zeros((points*classes, 2))\n",
    "    y = np.zeros(points*classes, dtype='uint8')\n",
    "    for class_number in range(classes):\n",
    "        ix = range(points*class_number, points*(class_number+1))\n",
    "        r=np.linspace(0.0, 1, points) # radius\n",
    "        t=np.linspace(class_number*4, (class_number+1)*4, points)+np.random.randn(points)*0.2\n",
    "        X[ix] = np.c_[r*np.sin(t*2.5), r*np.cos(t*2.5)]\n",
    "        y[ix]=class_number\n",
    "    return X,y\n",
    "import matplotlib.pyplot as plt\n",
    "\n",
    "print(\"here\")\n",
    "X,y=create_data(100,3)\n",
    "plt.scatter(X[:,0],X[:,1])\n",
    "plt.show()\n",
    "plt.scatter(X[:,0],X[:,1],c=y,cmap=\"brg\")\n",
    "plt.show()"
   ]
  },
  {
   "cell_type": "code",
   "execution_count": null,
   "metadata": {},
   "outputs": [],
   "source": [
    "import nnfs\n",
    "from nnfs.datasets import spiral_data"
   ]
  },
  {
   "cell_type": "code",
   "execution_count": null,
   "metadata": {},
   "outputs": [],
   "source": [
    "# Part 5 - Activation functions\n",
    "\n",
    "'''Types of activation functions\n",
    "- Step function: result will either be a 1 or 0  https://youtu.be/gmjzbpSVY1A?t=58\n",
    "- Sigmoid function: alot more granular output. Helps figure out accuracy of neural network more accurately  https://youtu.be/gmjzbpSVY1A?t=203\n",
    "- Rectified linear unit activation function: granular, similar to sigmoid, but faster because its a simpler calculation  https://youtu.be/gmjzbpSVY1A?t=267\n",
    "'''\n",
    "\n",
    "\n",
    "'''inputs = [0, 2, -1, 3.3, -2.7, 1.1, 2.2, -100]\n",
    "output = []\n",
    "\n",
    "\n",
    "# Rectified linear unit activation function\n",
    "# for i in inputs:\n",
    "#     if i>0:\n",
    "#         output.append(i)\n",
    "#     elif i <= 0:\n",
    "#         output.append(0)\n",
    "# print(output)\n",
    "# another way of doing the rlua is the following:\n",
    "for i in inputs:\n",
    "    output.append(max(0,i))\n",
    "# print(output)'''\n",
    "\n",
    "\n",
    "nnfs.init()\n",
    "\n",
    "\n",
    "X, y = spiral_data(100,3)\n",
    "\n",
    "\n",
    "\n",
    "class Layer_Dense:\n",
    "    \n",
    "    def __init__(self, n_inputs, n_neurons):\n",
    "        self.weights = 0.10 * np.random.randn(n_inputs, n_neurons) \n",
    "        self.biases = np.zeros((1, n_neurons))\n",
    "    def forward(self, inputs):\n",
    "        self.output =  np.dot(inputs, self.weights) + self.biases\n",
    "        \n",
    "class Activation_ReLU:\n",
    "    def forward(self, inputs):\n",
    "        self.output = np.maximum(0, inputs)\n",
    "    \n",
    "    \n",
    "layer1 = Layer_Dense(2,5)\n",
    "activation1 = Activation_ReLU()\n",
    "\n",
    "layer1.forward(X)\n",
    "print(layer1.output)\n",
    "activation1.forward(X)\n",
    "print(activation1.output)"
   ]
  },
  {
   "cell_type": "code",
   "execution_count": null,
   "metadata": {},
   "outputs": [],
   "source": [
    "# Part 6 - Softmax Activation\n",
    "# Expotential function\n",
    "# Euler's number\n",
    "\n",
    "nnfs.init()\n",
    "\n",
    "layer_outputs =[[4.8, 1.21, 2.385],\n",
    "                [8.9, -1.81, 0.2],\n",
    "                [1.41, 1.051, 0.026]]\n",
    "\n",
    "# Exponentiate\n",
    "exp_values = np.exp(layer_outputs)\n",
    "\n",
    "print('exponentiated values: ',exp_values)\n",
    "\n",
    "# Normalisation\n",
    "norm_values = exp_values / np.sum(exp_values, axis=1, keepdims=True)\n",
    "    \n",
    "print('normalised values: ',norm_values)\n",
    "# print('normalised values sum: ', sum(norm_values))"
   ]
  },
  {
   "cell_type": "code",
   "execution_count": 37,
   "metadata": {},
   "outputs": [
    {
     "name": "stdout",
     "output_type": "stream",
     "text": [
      "[[0.33333334 0.33333334 0.33333334]\n",
      " [0.33331734 0.3333183  0.33336434]\n",
      " [0.3332888  0.33329153 0.33341965]\n",
      " [0.33325943 0.33326396 0.33347666]\n",
      " [0.33323312 0.33323926 0.33352762]]\n"
     ]
    }
   ],
   "source": [
    "# Part 6\n",
    "\n",
    "\n",
    "nnfs.init()\n",
    "\n",
    "\n",
    "class Layer_Dense:\n",
    "    \n",
    "    def __init__(self, n_inputs, n_neurons):\n",
    "        self.weights = 0.10 * np.random.randn(n_inputs, n_neurons) \n",
    "        self.biases = np.zeros((1, n_neurons))\n",
    "    def forward(self, inputs):\n",
    "        self.output =  np.dot(inputs, self.weights) + self.biases\n",
    "        \n",
    "class Activation_ReLU:\n",
    "    def forward(self, inputs):\n",
    "        self.output = np.maximum(0, inputs)\n",
    "class Activation_Softmax:\n",
    "    def forward(self, inputs):\n",
    "        exp_values = np.exp(inputs - np.max(inputs, axis=1, keepdims=True))\n",
    "        probabilities = exp_values / np.sum(exp_values, axis=1, keepdims=True)\n",
    "        self.output = probabilities\n",
    "        \n",
    "X,y = spiral_data(samples=100, classes=3)\n",
    "\n",
    "dense1 = Layer_Dense(2,3)\n",
    "activation1 = Activation_ReLU()\n",
    "dense2 = Layer_Dense(3, 3)\n",
    "activation2 = Activation_Softmax()\n",
    "\n",
    "dense1.forward(X)\n",
    "activation1.forward(dense1.output)\n",
    "\n",
    "dense2.forward(activation1.output)\n",
    "activation2.forward(dense2.output)\n",
    "\n",
    "print(activation2.output[:5])"
   ]
  }
 ],
 "metadata": {
  "kernelspec": {
   "display_name": "Python 3.10.4 ('neuralNetworkPractice-LP908O5V')",
   "language": "python",
   "name": "python3"
  },
  "language_info": {
   "codemirror_mode": {
    "name": "ipython",
    "version": 3
   },
   "file_extension": ".py",
   "mimetype": "text/x-python",
   "name": "python",
   "nbconvert_exporter": "python",
   "pygments_lexer": "ipython3",
   "version": "3.10.4"
  },
  "orig_nbformat": 4,
  "vscode": {
   "interpreter": {
    "hash": "c1e5d35212a7dcafcfc6c2a6716d6be1f1aa501a9ed712f778c25589e99a9b24"
   }
  }
 },
 "nbformat": 4,
 "nbformat_minor": 2
}
